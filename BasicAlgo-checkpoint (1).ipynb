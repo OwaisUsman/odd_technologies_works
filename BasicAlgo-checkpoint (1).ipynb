{
 "cells": [
  {
   "cell_type": "code",
   "execution_count": 1,
   "id": "c60ed1e1",
   "metadata": {},
   "outputs": [],
   "source": [
    "import pandas as pd\n",
    "import numpy as np\n",
    "import seaborn as sns\n",
    "import os"
   ]
  },
  {
   "cell_type": "code",
   "execution_count": 2,
   "id": "f8f51f07",
   "metadata": {
    "scrolled": true
   },
   "outputs": [],
   "source": [
    "tony_db_2021 = pd.read_csv(r'\\\\192.168.88.18\\oddtech\\AIDAILER\\byjoinmethod_tony_db2021pluscdr2021.csv', index_col = False)\n"
   ]
  },
  {
   "cell_type": "code",
   "execution_count": 3,
   "id": "f0fc7eb5",
   "metadata": {},
   "outputs": [],
   "source": [
    "pd.set_option('display.max_columns',None)"
   ]
  },
  {
   "cell_type": "code",
   "execution_count": 4,
   "id": "9487a629",
   "metadata": {},
   "outputs": [
    {
     "data": {
      "text/html": [
       "<div>\n",
       "<style scoped>\n",
       "    .dataframe tbody tr th:only-of-type {\n",
       "        vertical-align: middle;\n",
       "    }\n",
       "\n",
       "    .dataframe tbody tr th {\n",
       "        vertical-align: top;\n",
       "    }\n",
       "\n",
       "    .dataframe thead th {\n",
       "        text-align: right;\n",
       "    }\n",
       "</style>\n",
       "<table border=\"1\" class=\"dataframe\">\n",
       "  <thead>\n",
       "    <tr style=\"text-align: right;\">\n",
       "      <th></th>\n",
       "      <th>Unnamed: 0</th>\n",
       "      <th>FullPhoneNumber</th>\n",
       "      <th>cityname</th>\n",
       "      <th>state</th>\n",
       "      <th>ZipCode</th>\n",
       "      <th>personexactage</th>\n",
       "      <th>IsMobile</th>\n",
       "      <th>estimatedincomecode</th>\n",
       "      <th>CreditRating</th>\n",
       "      <th>NumberOfLinesOfCredit</th>\n",
       "      <th>Credit_RangeOfNewCredit</th>\n",
       "      <th>homeownerprobabilitymodel</th>\n",
       "      <th>Disconnected</th>\n",
       "      <th>National DNC</th>\n",
       "      <th>Internal DNC</th>\n",
       "      <th>Litigator</th>\n",
       "      <th>datetime</th>\n",
       "      <th>duration</th>\n",
       "      <th>day</th>\n",
       "      <th>responsive</th>\n",
       "    </tr>\n",
       "  </thead>\n",
       "  <tbody>\n",
       "    <tr>\n",
       "      <th>0</th>\n",
       "      <td>0</td>\n",
       "      <td>8085360276</td>\n",
       "      <td>Honolulu</td>\n",
       "      <td>HI</td>\n",
       "      <td>96817</td>\n",
       "      <td>61.0</td>\n",
       "      <td>0</td>\n",
       "      <td>M</td>\n",
       "      <td>A</td>\n",
       "      <td>-1.0</td>\n",
       "      <td>-1.0</td>\n",
       "      <td>1.0</td>\n",
       "      <td>0</td>\n",
       "      <td>0</td>\n",
       "      <td>0</td>\n",
       "      <td>0</td>\n",
       "      <td>2021-08-26 20:40:04</td>\n",
       "      <td>0</td>\n",
       "      <td>Thursday</td>\n",
       "      <td>0</td>\n",
       "    </tr>\n",
       "    <tr>\n",
       "      <th>1</th>\n",
       "      <td>1</td>\n",
       "      <td>8086769544</td>\n",
       "      <td>Honolulu</td>\n",
       "      <td>HI</td>\n",
       "      <td>96818</td>\n",
       "      <td>55.0</td>\n",
       "      <td>0</td>\n",
       "      <td>O</td>\n",
       "      <td>D</td>\n",
       "      <td>-1.0</td>\n",
       "      <td>-1.0</td>\n",
       "      <td>1.0</td>\n",
       "      <td>0</td>\n",
       "      <td>0</td>\n",
       "      <td>0</td>\n",
       "      <td>0</td>\n",
       "      <td>2021-08-25 20:59:26</td>\n",
       "      <td>0</td>\n",
       "      <td>Wednesday</td>\n",
       "      <td>0</td>\n",
       "    </tr>\n",
       "    <tr>\n",
       "      <th>2</th>\n",
       "      <td>2</td>\n",
       "      <td>8084974246</td>\n",
       "      <td>Honolulu</td>\n",
       "      <td>HI</td>\n",
       "      <td>96818</td>\n",
       "      <td>64.0</td>\n",
       "      <td>1</td>\n",
       "      <td>M</td>\n",
       "      <td>F</td>\n",
       "      <td>-1.0</td>\n",
       "      <td>-1.0</td>\n",
       "      <td>1.0</td>\n",
       "      <td>0</td>\n",
       "      <td>0</td>\n",
       "      <td>0</td>\n",
       "      <td>0</td>\n",
       "      <td>2021-08-27 17:48:00</td>\n",
       "      <td>0</td>\n",
       "      <td>Friday</td>\n",
       "      <td>0</td>\n",
       "    </tr>\n",
       "  </tbody>\n",
       "</table>\n",
       "</div>"
      ],
      "text/plain": [
       "   Unnamed: 0  FullPhoneNumber  cityname state  ZipCode  personexactage  \\\n",
       "0           0       8085360276  Honolulu    HI    96817            61.0   \n",
       "1           1       8086769544  Honolulu    HI    96818            55.0   \n",
       "2           2       8084974246  Honolulu    HI    96818            64.0   \n",
       "\n",
       "   IsMobile estimatedincomecode CreditRating  NumberOfLinesOfCredit  \\\n",
       "0         0                   M            A                   -1.0   \n",
       "1         0                   O            D                   -1.0   \n",
       "2         1                   M            F                   -1.0   \n",
       "\n",
       "   Credit_RangeOfNewCredit  homeownerprobabilitymodel  Disconnected  \\\n",
       "0                     -1.0                        1.0             0   \n",
       "1                     -1.0                        1.0             0   \n",
       "2                     -1.0                        1.0             0   \n",
       "\n",
       "   National DNC  Internal DNC  Litigator             datetime  duration  \\\n",
       "0             0             0          0  2021-08-26 20:40:04         0   \n",
       "1             0             0          0  2021-08-25 20:59:26         0   \n",
       "2             0             0          0  2021-08-27 17:48:00         0   \n",
       "\n",
       "         day  responsive  \n",
       "0   Thursday           0  \n",
       "1  Wednesday           0  \n",
       "2     Friday           0  "
      ]
     },
     "execution_count": 4,
     "metadata": {},
     "output_type": "execute_result"
    }
   ],
   "source": [
    "tony_db_2021.head(3)"
   ]
  },
  {
   "cell_type": "code",
   "execution_count": 5,
   "id": "f6a30d1c",
   "metadata": {},
   "outputs": [
    {
     "data": {
      "text/plain": [
       "'HI'"
      ]
     },
     "execution_count": 5,
     "metadata": {},
     "output_type": "execute_result"
    }
   ],
   "source": [
    "fortrainData = tony_db_2021[['state','personexactage','IsMobile','estimatedincomecode' ,'day', 'duration', 'datetime']]\n",
    "fortrainData['state'][15]"
   ]
  },
  {
   "cell_type": "code",
   "execution_count": 6,
   "id": "7359d8bf",
   "metadata": {},
   "outputs": [
    {
     "data": {
      "text/html": [
       "<div>\n",
       "<style scoped>\n",
       "    .dataframe tbody tr th:only-of-type {\n",
       "        vertical-align: middle;\n",
       "    }\n",
       "\n",
       "    .dataframe tbody tr th {\n",
       "        vertical-align: top;\n",
       "    }\n",
       "\n",
       "    .dataframe thead th {\n",
       "        text-align: right;\n",
       "    }\n",
       "</style>\n",
       "<table border=\"1\" class=\"dataframe\">\n",
       "  <thead>\n",
       "    <tr style=\"text-align: right;\">\n",
       "      <th></th>\n",
       "      <th>state</th>\n",
       "      <th>personexactage</th>\n",
       "      <th>IsMobile</th>\n",
       "      <th>estimatedincomecode</th>\n",
       "      <th>day</th>\n",
       "      <th>duration</th>\n",
       "      <th>datetime</th>\n",
       "    </tr>\n",
       "  </thead>\n",
       "  <tbody>\n",
       "    <tr>\n",
       "      <th>0</th>\n",
       "      <td>HI</td>\n",
       "      <td>61.0</td>\n",
       "      <td>0</td>\n",
       "      <td>M</td>\n",
       "      <td>Thursday</td>\n",
       "      <td>0</td>\n",
       "      <td>2021-08-26 20:40:04</td>\n",
       "    </tr>\n",
       "    <tr>\n",
       "      <th>1</th>\n",
       "      <td>HI</td>\n",
       "      <td>55.0</td>\n",
       "      <td>0</td>\n",
       "      <td>O</td>\n",
       "      <td>Wednesday</td>\n",
       "      <td>0</td>\n",
       "      <td>2021-08-25 20:59:26</td>\n",
       "    </tr>\n",
       "    <tr>\n",
       "      <th>2</th>\n",
       "      <td>HI</td>\n",
       "      <td>64.0</td>\n",
       "      <td>1</td>\n",
       "      <td>M</td>\n",
       "      <td>Friday</td>\n",
       "      <td>0</td>\n",
       "      <td>2021-08-27 17:48:00</td>\n",
       "    </tr>\n",
       "    <tr>\n",
       "      <th>3</th>\n",
       "      <td>HI</td>\n",
       "      <td>74.0</td>\n",
       "      <td>0</td>\n",
       "      <td>N</td>\n",
       "      <td>Friday</td>\n",
       "      <td>277</td>\n",
       "      <td>2021-08-27 15:47:52</td>\n",
       "    </tr>\n",
       "    <tr>\n",
       "      <th>4</th>\n",
       "      <td>HI</td>\n",
       "      <td>74.0</td>\n",
       "      <td>0</td>\n",
       "      <td>N</td>\n",
       "      <td>Tuesday</td>\n",
       "      <td>0</td>\n",
       "      <td>2021-08-24 18:25:34</td>\n",
       "    </tr>\n",
       "    <tr>\n",
       "      <th>...</th>\n",
       "      <td>...</td>\n",
       "      <td>...</td>\n",
       "      <td>...</td>\n",
       "      <td>...</td>\n",
       "      <td>...</td>\n",
       "      <td>...</td>\n",
       "      <td>...</td>\n",
       "    </tr>\n",
       "    <tr>\n",
       "      <th>1228272</th>\n",
       "      <td>WY</td>\n",
       "      <td>63.0</td>\n",
       "      <td>0</td>\n",
       "      <td>F</td>\n",
       "      <td>Tuesday</td>\n",
       "      <td>0</td>\n",
       "      <td>2021-08-17 17:18:14</td>\n",
       "    </tr>\n",
       "    <tr>\n",
       "      <th>1228273</th>\n",
       "      <td>WY</td>\n",
       "      <td>63.0</td>\n",
       "      <td>0</td>\n",
       "      <td>F</td>\n",
       "      <td>Monday</td>\n",
       "      <td>0</td>\n",
       "      <td>2021-04-19 17:50:39</td>\n",
       "    </tr>\n",
       "    <tr>\n",
       "      <th>1228274</th>\n",
       "      <td>WY</td>\n",
       "      <td>63.0</td>\n",
       "      <td>0</td>\n",
       "      <td>F</td>\n",
       "      <td>Monday</td>\n",
       "      <td>21</td>\n",
       "      <td>2021-04-12 17:18:05</td>\n",
       "    </tr>\n",
       "    <tr>\n",
       "      <th>1228275</th>\n",
       "      <td>WY</td>\n",
       "      <td>63.0</td>\n",
       "      <td>0</td>\n",
       "      <td>F</td>\n",
       "      <td>Thursday</td>\n",
       "      <td>20</td>\n",
       "      <td>2021-04-01 22:57:05</td>\n",
       "    </tr>\n",
       "    <tr>\n",
       "      <th>1228276</th>\n",
       "      <td>WY</td>\n",
       "      <td>40.0</td>\n",
       "      <td>1</td>\n",
       "      <td>E</td>\n",
       "      <td>Saturday</td>\n",
       "      <td>0</td>\n",
       "      <td>2021-04-17 17:03:30</td>\n",
       "    </tr>\n",
       "  </tbody>\n",
       "</table>\n",
       "<p>1228277 rows × 7 columns</p>\n",
       "</div>"
      ],
      "text/plain": [
       "        state  personexactage  IsMobile estimatedincomecode        day  \\\n",
       "0          HI            61.0         0                   M   Thursday   \n",
       "1          HI            55.0         0                   O  Wednesday   \n",
       "2          HI            64.0         1                   M     Friday   \n",
       "3          HI            74.0         0                   N     Friday   \n",
       "4          HI            74.0         0                   N    Tuesday   \n",
       "...       ...             ...       ...                 ...        ...   \n",
       "1228272    WY            63.0         0                   F    Tuesday   \n",
       "1228273    WY            63.0         0                   F     Monday   \n",
       "1228274    WY            63.0         0                   F     Monday   \n",
       "1228275    WY            63.0         0                   F   Thursday   \n",
       "1228276    WY            40.0         1                   E   Saturday   \n",
       "\n",
       "         duration             datetime  \n",
       "0               0  2021-08-26 20:40:04  \n",
       "1               0  2021-08-25 20:59:26  \n",
       "2               0  2021-08-27 17:48:00  \n",
       "3             277  2021-08-27 15:47:52  \n",
       "4               0  2021-08-24 18:25:34  \n",
       "...           ...                  ...  \n",
       "1228272         0  2021-08-17 17:18:14  \n",
       "1228273         0  2021-04-19 17:50:39  \n",
       "1228274        21  2021-04-12 17:18:05  \n",
       "1228275        20  2021-04-01 22:57:05  \n",
       "1228276         0  2021-04-17 17:03:30  \n",
       "\n",
       "[1228277 rows x 7 columns]"
      ]
     },
     "execution_count": 6,
     "metadata": {},
     "output_type": "execute_result"
    }
   ],
   "source": [
    "fortrainData"
   ]
  },
  {
   "cell_type": "code",
   "execution_count": 7,
   "id": "466a6a03",
   "metadata": {},
   "outputs": [
    {
     "data": {
      "text/html": [
       "<div>\n",
       "<style scoped>\n",
       "    .dataframe tbody tr th:only-of-type {\n",
       "        vertical-align: middle;\n",
       "    }\n",
       "\n",
       "    .dataframe tbody tr th {\n",
       "        vertical-align: top;\n",
       "    }\n",
       "\n",
       "    .dataframe thead th {\n",
       "        text-align: right;\n",
       "    }\n",
       "</style>\n",
       "<table border=\"1\" class=\"dataframe\">\n",
       "  <thead>\n",
       "    <tr style=\"text-align: right;\">\n",
       "      <th></th>\n",
       "      <th>state</th>\n",
       "      <th>personexactage</th>\n",
       "      <th>IsMobile</th>\n",
       "      <th>estimatedincomecode</th>\n",
       "      <th>day</th>\n",
       "      <th>duration</th>\n",
       "      <th>datetime</th>\n",
       "      <th>DateTime</th>\n",
       "      <th>date</th>\n",
       "      <th>time</th>\n",
       "    </tr>\n",
       "  </thead>\n",
       "  <tbody>\n",
       "    <tr>\n",
       "      <th>0</th>\n",
       "      <td>HI</td>\n",
       "      <td>61.0</td>\n",
       "      <td>0</td>\n",
       "      <td>M</td>\n",
       "      <td>Thursday</td>\n",
       "      <td>0</td>\n",
       "      <td>2021-08-26 20:40:04</td>\n",
       "      <td>2021-08-26 20:40:04</td>\n",
       "      <td>26/08/2021</td>\n",
       "      <td>20:40</td>\n",
       "    </tr>\n",
       "    <tr>\n",
       "      <th>1</th>\n",
       "      <td>HI</td>\n",
       "      <td>55.0</td>\n",
       "      <td>0</td>\n",
       "      <td>O</td>\n",
       "      <td>Wednesday</td>\n",
       "      <td>0</td>\n",
       "      <td>2021-08-25 20:59:26</td>\n",
       "      <td>2021-08-25 20:59:26</td>\n",
       "      <td>25/08/2021</td>\n",
       "      <td>20:59</td>\n",
       "    </tr>\n",
       "    <tr>\n",
       "      <th>2</th>\n",
       "      <td>HI</td>\n",
       "      <td>64.0</td>\n",
       "      <td>1</td>\n",
       "      <td>M</td>\n",
       "      <td>Friday</td>\n",
       "      <td>0</td>\n",
       "      <td>2021-08-27 17:48:00</td>\n",
       "      <td>2021-08-27 17:48:00</td>\n",
       "      <td>27/08/2021</td>\n",
       "      <td>17:48</td>\n",
       "    </tr>\n",
       "    <tr>\n",
       "      <th>3</th>\n",
       "      <td>HI</td>\n",
       "      <td>74.0</td>\n",
       "      <td>0</td>\n",
       "      <td>N</td>\n",
       "      <td>Friday</td>\n",
       "      <td>277</td>\n",
       "      <td>2021-08-27 15:47:52</td>\n",
       "      <td>2021-08-27 15:47:52</td>\n",
       "      <td>27/08/2021</td>\n",
       "      <td>15:47</td>\n",
       "    </tr>\n",
       "    <tr>\n",
       "      <th>4</th>\n",
       "      <td>HI</td>\n",
       "      <td>74.0</td>\n",
       "      <td>0</td>\n",
       "      <td>N</td>\n",
       "      <td>Tuesday</td>\n",
       "      <td>0</td>\n",
       "      <td>2021-08-24 18:25:34</td>\n",
       "      <td>2021-08-24 18:25:34</td>\n",
       "      <td>24/08/2021</td>\n",
       "      <td>18:25</td>\n",
       "    </tr>\n",
       "    <tr>\n",
       "      <th>...</th>\n",
       "      <td>...</td>\n",
       "      <td>...</td>\n",
       "      <td>...</td>\n",
       "      <td>...</td>\n",
       "      <td>...</td>\n",
       "      <td>...</td>\n",
       "      <td>...</td>\n",
       "      <td>...</td>\n",
       "      <td>...</td>\n",
       "      <td>...</td>\n",
       "    </tr>\n",
       "    <tr>\n",
       "      <th>1228272</th>\n",
       "      <td>WY</td>\n",
       "      <td>63.0</td>\n",
       "      <td>0</td>\n",
       "      <td>F</td>\n",
       "      <td>Tuesday</td>\n",
       "      <td>0</td>\n",
       "      <td>2021-08-17 17:18:14</td>\n",
       "      <td>2021-08-17 17:18:14</td>\n",
       "      <td>17/08/2021</td>\n",
       "      <td>17:18</td>\n",
       "    </tr>\n",
       "    <tr>\n",
       "      <th>1228273</th>\n",
       "      <td>WY</td>\n",
       "      <td>63.0</td>\n",
       "      <td>0</td>\n",
       "      <td>F</td>\n",
       "      <td>Monday</td>\n",
       "      <td>0</td>\n",
       "      <td>2021-04-19 17:50:39</td>\n",
       "      <td>2021-04-19 17:50:39</td>\n",
       "      <td>19/04/2021</td>\n",
       "      <td>17:50</td>\n",
       "    </tr>\n",
       "    <tr>\n",
       "      <th>1228274</th>\n",
       "      <td>WY</td>\n",
       "      <td>63.0</td>\n",
       "      <td>0</td>\n",
       "      <td>F</td>\n",
       "      <td>Monday</td>\n",
       "      <td>21</td>\n",
       "      <td>2021-04-12 17:18:05</td>\n",
       "      <td>2021-04-12 17:18:05</td>\n",
       "      <td>12/04/2021</td>\n",
       "      <td>17:18</td>\n",
       "    </tr>\n",
       "    <tr>\n",
       "      <th>1228275</th>\n",
       "      <td>WY</td>\n",
       "      <td>63.0</td>\n",
       "      <td>0</td>\n",
       "      <td>F</td>\n",
       "      <td>Thursday</td>\n",
       "      <td>20</td>\n",
       "      <td>2021-04-01 22:57:05</td>\n",
       "      <td>2021-04-01 22:57:05</td>\n",
       "      <td>01/04/2021</td>\n",
       "      <td>22:57</td>\n",
       "    </tr>\n",
       "    <tr>\n",
       "      <th>1228276</th>\n",
       "      <td>WY</td>\n",
       "      <td>40.0</td>\n",
       "      <td>1</td>\n",
       "      <td>E</td>\n",
       "      <td>Saturday</td>\n",
       "      <td>0</td>\n",
       "      <td>2021-04-17 17:03:30</td>\n",
       "      <td>2021-04-17 17:03:30</td>\n",
       "      <td>17/04/2021</td>\n",
       "      <td>17:03</td>\n",
       "    </tr>\n",
       "  </tbody>\n",
       "</table>\n",
       "<p>1228277 rows × 10 columns</p>\n",
       "</div>"
      ],
      "text/plain": [
       "        state  personexactage  IsMobile estimatedincomecode        day  \\\n",
       "0          HI            61.0         0                   M   Thursday   \n",
       "1          HI            55.0         0                   O  Wednesday   \n",
       "2          HI            64.0         1                   M     Friday   \n",
       "3          HI            74.0         0                   N     Friday   \n",
       "4          HI            74.0         0                   N    Tuesday   \n",
       "...       ...             ...       ...                 ...        ...   \n",
       "1228272    WY            63.0         0                   F    Tuesday   \n",
       "1228273    WY            63.0         0                   F     Monday   \n",
       "1228274    WY            63.0         0                   F     Monday   \n",
       "1228275    WY            63.0         0                   F   Thursday   \n",
       "1228276    WY            40.0         1                   E   Saturday   \n",
       "\n",
       "         duration             datetime            DateTime        date   time  \n",
       "0               0  2021-08-26 20:40:04 2021-08-26 20:40:04  26/08/2021  20:40  \n",
       "1               0  2021-08-25 20:59:26 2021-08-25 20:59:26  25/08/2021  20:59  \n",
       "2               0  2021-08-27 17:48:00 2021-08-27 17:48:00  27/08/2021  17:48  \n",
       "3             277  2021-08-27 15:47:52 2021-08-27 15:47:52  27/08/2021  15:47  \n",
       "4               0  2021-08-24 18:25:34 2021-08-24 18:25:34  24/08/2021  18:25  \n",
       "...           ...                  ...                 ...         ...    ...  \n",
       "1228272         0  2021-08-17 17:18:14 2021-08-17 17:18:14  17/08/2021  17:18  \n",
       "1228273         0  2021-04-19 17:50:39 2021-04-19 17:50:39  19/04/2021  17:50  \n",
       "1228274        21  2021-04-12 17:18:05 2021-04-12 17:18:05  12/04/2021  17:18  \n",
       "1228275        20  2021-04-01 22:57:05 2021-04-01 22:57:05  01/04/2021  22:57  \n",
       "1228276         0  2021-04-17 17:03:30 2021-04-17 17:03:30  17/04/2021  17:03  \n",
       "\n",
       "[1228277 rows x 10 columns]"
      ]
     },
     "execution_count": 7,
     "metadata": {},
     "output_type": "execute_result"
    }
   ],
   "source": [
    "df = fortrainData.copy()\n",
    "df['DateTime'] = pd.to_datetime(df['datetime'])\n",
    "df['date'] = df['DateTime'].dt.strftime('%d/%m/%Y')\n",
    "df['time'] = df['DateTime'].dt.strftime('%H:%M')\n",
    "df"
   ]
  },
  {
   "cell_type": "code",
   "execution_count": 9,
   "id": "0e8ef280",
   "metadata": {},
   "outputs": [],
   "source": [
    "# -*- coding: utf-8 -*-\n",
    "\"\"\"\n",
    "Created on Fri Nov 19 11:44:02 2021\n",
    "\n",
    "@author: ashba\n",
    "\"\"\"\n",
    "\n",
    "import us\n",
    "import pytz\n",
    "from datetime import datetime\n",
    "\n",
    "\n",
    "def getlocaltime(time_zones,dt ):\n",
    "    try: \n",
    "        dt = datetime.strptime(dt, '%H:%M')\n",
    "        return pytz.timezone(time_zones).fromutc(dt)\n",
    "    except:\n",
    "        print (dt)\n",
    "        \n",
    "        \n",
    "        \n",
    "df['time_zones'] = df.apply(lambda row:us.states.lookup(row.state).time_zones[0], axis=1)\n",
    "df['localtime'] = df.apply(  lambda row: getlocaltime(row.time_zones, row.time) , axis=1)"
   ]
  },
  {
   "cell_type": "code",
   "execution_count": 18,
   "id": "5c32be98",
   "metadata": {},
   "outputs": [
    {
     "data": {
      "text/plain": [
       "0    26/08/2021\n",
       "1    25/08/2021\n",
       "2    27/08/2021\n",
       "3    27/08/2021\n",
       "4    24/08/2021\n",
       "5    26/08/2021\n",
       "6    24/08/2021\n",
       "7    27/08/2021\n",
       "8    16/08/2021\n",
       "9    24/08/2021\n",
       "Name: date, dtype: object"
      ]
     },
     "execution_count": 18,
     "metadata": {},
     "output_type": "execute_result"
    }
   ],
   "source": [
    "df['date'].head(10)"
   ]
  },
  {
   "cell_type": "code",
   "execution_count": 19,
   "id": "6ba647ff",
   "metadata": {},
   "outputs": [
    {
     "data": {
      "text/plain": [
       "0          20:40\n",
       "1          20:59\n",
       "2          17:48\n",
       "3          15:47\n",
       "4          18:25\n",
       "           ...  \n",
       "1228272    17:18\n",
       "1228273    17:50\n",
       "1228274    17:18\n",
       "1228275    22:57\n",
       "1228276    17:03\n",
       "Name: seperated_time, Length: 1228277, dtype: object"
      ]
     },
     "execution_count": 19,
     "metadata": {},
     "output_type": "execute_result"
    }
   ],
   "source": [
    "df['Local_time'] = pd.to_datetime(df['localtime'], utc=True)\n",
    "df['seperated_time'] = df['Local_time'].dt.strftime('%H:%M')\n",
    "df['seperated_time']\n"
   ]
  },
  {
   "cell_type": "code",
   "execution_count": 20,
   "id": "5085bc59",
   "metadata": {},
   "outputs": [
    {
     "data": {
      "text/html": [
       "<div>\n",
       "<style scoped>\n",
       "    .dataframe tbody tr th:only-of-type {\n",
       "        vertical-align: middle;\n",
       "    }\n",
       "\n",
       "    .dataframe tbody tr th {\n",
       "        vertical-align: top;\n",
       "    }\n",
       "\n",
       "    .dataframe thead th {\n",
       "        text-align: right;\n",
       "    }\n",
       "</style>\n",
       "<table border=\"1\" class=\"dataframe\">\n",
       "  <thead>\n",
       "    <tr style=\"text-align: right;\">\n",
       "      <th></th>\n",
       "      <th>state</th>\n",
       "      <th>personexactage</th>\n",
       "      <th>IsMobile</th>\n",
       "      <th>estimatedincomecode</th>\n",
       "      <th>day</th>\n",
       "      <th>duration</th>\n",
       "      <th>datetime</th>\n",
       "      <th>DateTime</th>\n",
       "      <th>date</th>\n",
       "      <th>time</th>\n",
       "      <th>time_zones</th>\n",
       "      <th>localtime</th>\n",
       "      <th>Local_time</th>\n",
       "      <th>seperated_time</th>\n",
       "    </tr>\n",
       "  </thead>\n",
       "  <tbody>\n",
       "    <tr>\n",
       "      <th>0</th>\n",
       "      <td>HI</td>\n",
       "      <td>61.0</td>\n",
       "      <td>0</td>\n",
       "      <td>M</td>\n",
       "      <td>Thursday</td>\n",
       "      <td>0</td>\n",
       "      <td>2021-08-26 20:40:04</td>\n",
       "      <td>2021-08-26 20:40:04</td>\n",
       "      <td>26/08/2021</td>\n",
       "      <td>20:40</td>\n",
       "      <td>Pacific/Honolulu</td>\n",
       "      <td>1900-01-01 10:09:00-10:31</td>\n",
       "      <td>1900-01-01 20:40:00+00:00</td>\n",
       "      <td>20:40</td>\n",
       "    </tr>\n",
       "    <tr>\n",
       "      <th>1</th>\n",
       "      <td>HI</td>\n",
       "      <td>55.0</td>\n",
       "      <td>0</td>\n",
       "      <td>O</td>\n",
       "      <td>Wednesday</td>\n",
       "      <td>0</td>\n",
       "      <td>2021-08-25 20:59:26</td>\n",
       "      <td>2021-08-25 20:59:26</td>\n",
       "      <td>25/08/2021</td>\n",
       "      <td>20:59</td>\n",
       "      <td>Pacific/Honolulu</td>\n",
       "      <td>1900-01-01 10:28:00-10:31</td>\n",
       "      <td>1900-01-01 20:59:00+00:00</td>\n",
       "      <td>20:59</td>\n",
       "    </tr>\n",
       "    <tr>\n",
       "      <th>2</th>\n",
       "      <td>HI</td>\n",
       "      <td>64.0</td>\n",
       "      <td>1</td>\n",
       "      <td>M</td>\n",
       "      <td>Friday</td>\n",
       "      <td>0</td>\n",
       "      <td>2021-08-27 17:48:00</td>\n",
       "      <td>2021-08-27 17:48:00</td>\n",
       "      <td>27/08/2021</td>\n",
       "      <td>17:48</td>\n",
       "      <td>Pacific/Honolulu</td>\n",
       "      <td>1900-01-01 07:17:00-10:31</td>\n",
       "      <td>1900-01-01 17:48:00+00:00</td>\n",
       "      <td>17:48</td>\n",
       "    </tr>\n",
       "    <tr>\n",
       "      <th>3</th>\n",
       "      <td>HI</td>\n",
       "      <td>74.0</td>\n",
       "      <td>0</td>\n",
       "      <td>N</td>\n",
       "      <td>Friday</td>\n",
       "      <td>277</td>\n",
       "      <td>2021-08-27 15:47:52</td>\n",
       "      <td>2021-08-27 15:47:52</td>\n",
       "      <td>27/08/2021</td>\n",
       "      <td>15:47</td>\n",
       "      <td>Pacific/Honolulu</td>\n",
       "      <td>1900-01-01 05:16:00-10:31</td>\n",
       "      <td>1900-01-01 15:47:00+00:00</td>\n",
       "      <td>15:47</td>\n",
       "    </tr>\n",
       "    <tr>\n",
       "      <th>4</th>\n",
       "      <td>HI</td>\n",
       "      <td>74.0</td>\n",
       "      <td>0</td>\n",
       "      <td>N</td>\n",
       "      <td>Tuesday</td>\n",
       "      <td>0</td>\n",
       "      <td>2021-08-24 18:25:34</td>\n",
       "      <td>2021-08-24 18:25:34</td>\n",
       "      <td>24/08/2021</td>\n",
       "      <td>18:25</td>\n",
       "      <td>Pacific/Honolulu</td>\n",
       "      <td>1900-01-01 07:54:00-10:31</td>\n",
       "      <td>1900-01-01 18:25:00+00:00</td>\n",
       "      <td>18:25</td>\n",
       "    </tr>\n",
       "    <tr>\n",
       "      <th>...</th>\n",
       "      <td>...</td>\n",
       "      <td>...</td>\n",
       "      <td>...</td>\n",
       "      <td>...</td>\n",
       "      <td>...</td>\n",
       "      <td>...</td>\n",
       "      <td>...</td>\n",
       "      <td>...</td>\n",
       "      <td>...</td>\n",
       "      <td>...</td>\n",
       "      <td>...</td>\n",
       "      <td>...</td>\n",
       "      <td>...</td>\n",
       "      <td>...</td>\n",
       "    </tr>\n",
       "    <tr>\n",
       "      <th>1228272</th>\n",
       "      <td>WY</td>\n",
       "      <td>63.0</td>\n",
       "      <td>0</td>\n",
       "      <td>F</td>\n",
       "      <td>Tuesday</td>\n",
       "      <td>0</td>\n",
       "      <td>2021-08-17 17:18:14</td>\n",
       "      <td>2021-08-17 17:18:14</td>\n",
       "      <td>17/08/2021</td>\n",
       "      <td>17:18</td>\n",
       "      <td>America/Denver</td>\n",
       "      <td>1900-01-01 10:18:00-07:00</td>\n",
       "      <td>1900-01-01 17:18:00+00:00</td>\n",
       "      <td>17:18</td>\n",
       "    </tr>\n",
       "    <tr>\n",
       "      <th>1228273</th>\n",
       "      <td>WY</td>\n",
       "      <td>63.0</td>\n",
       "      <td>0</td>\n",
       "      <td>F</td>\n",
       "      <td>Monday</td>\n",
       "      <td>0</td>\n",
       "      <td>2021-04-19 17:50:39</td>\n",
       "      <td>2021-04-19 17:50:39</td>\n",
       "      <td>19/04/2021</td>\n",
       "      <td>17:50</td>\n",
       "      <td>America/Denver</td>\n",
       "      <td>1900-01-01 10:50:00-07:00</td>\n",
       "      <td>1900-01-01 17:50:00+00:00</td>\n",
       "      <td>17:50</td>\n",
       "    </tr>\n",
       "    <tr>\n",
       "      <th>1228274</th>\n",
       "      <td>WY</td>\n",
       "      <td>63.0</td>\n",
       "      <td>0</td>\n",
       "      <td>F</td>\n",
       "      <td>Monday</td>\n",
       "      <td>21</td>\n",
       "      <td>2021-04-12 17:18:05</td>\n",
       "      <td>2021-04-12 17:18:05</td>\n",
       "      <td>12/04/2021</td>\n",
       "      <td>17:18</td>\n",
       "      <td>America/Denver</td>\n",
       "      <td>1900-01-01 10:18:00-07:00</td>\n",
       "      <td>1900-01-01 17:18:00+00:00</td>\n",
       "      <td>17:18</td>\n",
       "    </tr>\n",
       "    <tr>\n",
       "      <th>1228275</th>\n",
       "      <td>WY</td>\n",
       "      <td>63.0</td>\n",
       "      <td>0</td>\n",
       "      <td>F</td>\n",
       "      <td>Thursday</td>\n",
       "      <td>20</td>\n",
       "      <td>2021-04-01 22:57:05</td>\n",
       "      <td>2021-04-01 22:57:05</td>\n",
       "      <td>01/04/2021</td>\n",
       "      <td>22:57</td>\n",
       "      <td>America/Denver</td>\n",
       "      <td>1900-01-01 15:57:00-07:00</td>\n",
       "      <td>1900-01-01 22:57:00+00:00</td>\n",
       "      <td>22:57</td>\n",
       "    </tr>\n",
       "    <tr>\n",
       "      <th>1228276</th>\n",
       "      <td>WY</td>\n",
       "      <td>40.0</td>\n",
       "      <td>1</td>\n",
       "      <td>E</td>\n",
       "      <td>Saturday</td>\n",
       "      <td>0</td>\n",
       "      <td>2021-04-17 17:03:30</td>\n",
       "      <td>2021-04-17 17:03:30</td>\n",
       "      <td>17/04/2021</td>\n",
       "      <td>17:03</td>\n",
       "      <td>America/Denver</td>\n",
       "      <td>1900-01-01 10:03:00-07:00</td>\n",
       "      <td>1900-01-01 17:03:00+00:00</td>\n",
       "      <td>17:03</td>\n",
       "    </tr>\n",
       "  </tbody>\n",
       "</table>\n",
       "<p>1228277 rows × 14 columns</p>\n",
       "</div>"
      ],
      "text/plain": [
       "        state  personexactage  IsMobile estimatedincomecode        day  \\\n",
       "0          HI            61.0         0                   M   Thursday   \n",
       "1          HI            55.0         0                   O  Wednesday   \n",
       "2          HI            64.0         1                   M     Friday   \n",
       "3          HI            74.0         0                   N     Friday   \n",
       "4          HI            74.0         0                   N    Tuesday   \n",
       "...       ...             ...       ...                 ...        ...   \n",
       "1228272    WY            63.0         0                   F    Tuesday   \n",
       "1228273    WY            63.0         0                   F     Monday   \n",
       "1228274    WY            63.0         0                   F     Monday   \n",
       "1228275    WY            63.0         0                   F   Thursday   \n",
       "1228276    WY            40.0         1                   E   Saturday   \n",
       "\n",
       "         duration             datetime            DateTime        date   time  \\\n",
       "0               0  2021-08-26 20:40:04 2021-08-26 20:40:04  26/08/2021  20:40   \n",
       "1               0  2021-08-25 20:59:26 2021-08-25 20:59:26  25/08/2021  20:59   \n",
       "2               0  2021-08-27 17:48:00 2021-08-27 17:48:00  27/08/2021  17:48   \n",
       "3             277  2021-08-27 15:47:52 2021-08-27 15:47:52  27/08/2021  15:47   \n",
       "4               0  2021-08-24 18:25:34 2021-08-24 18:25:34  24/08/2021  18:25   \n",
       "...           ...                  ...                 ...         ...    ...   \n",
       "1228272         0  2021-08-17 17:18:14 2021-08-17 17:18:14  17/08/2021  17:18   \n",
       "1228273         0  2021-04-19 17:50:39 2021-04-19 17:50:39  19/04/2021  17:50   \n",
       "1228274        21  2021-04-12 17:18:05 2021-04-12 17:18:05  12/04/2021  17:18   \n",
       "1228275        20  2021-04-01 22:57:05 2021-04-01 22:57:05  01/04/2021  22:57   \n",
       "1228276         0  2021-04-17 17:03:30 2021-04-17 17:03:30  17/04/2021  17:03   \n",
       "\n",
       "               time_zones                  localtime  \\\n",
       "0        Pacific/Honolulu  1900-01-01 10:09:00-10:31   \n",
       "1        Pacific/Honolulu  1900-01-01 10:28:00-10:31   \n",
       "2        Pacific/Honolulu  1900-01-01 07:17:00-10:31   \n",
       "3        Pacific/Honolulu  1900-01-01 05:16:00-10:31   \n",
       "4        Pacific/Honolulu  1900-01-01 07:54:00-10:31   \n",
       "...                   ...                        ...   \n",
       "1228272    America/Denver  1900-01-01 10:18:00-07:00   \n",
       "1228273    America/Denver  1900-01-01 10:50:00-07:00   \n",
       "1228274    America/Denver  1900-01-01 10:18:00-07:00   \n",
       "1228275    America/Denver  1900-01-01 15:57:00-07:00   \n",
       "1228276    America/Denver  1900-01-01 10:03:00-07:00   \n",
       "\n",
       "                       Local_time seperated_time  \n",
       "0       1900-01-01 20:40:00+00:00          20:40  \n",
       "1       1900-01-01 20:59:00+00:00          20:59  \n",
       "2       1900-01-01 17:48:00+00:00          17:48  \n",
       "3       1900-01-01 15:47:00+00:00          15:47  \n",
       "4       1900-01-01 18:25:00+00:00          18:25  \n",
       "...                           ...            ...  \n",
       "1228272 1900-01-01 17:18:00+00:00          17:18  \n",
       "1228273 1900-01-01 17:50:00+00:00          17:50  \n",
       "1228274 1900-01-01 17:18:00+00:00          17:18  \n",
       "1228275 1900-01-01 22:57:00+00:00          22:57  \n",
       "1228276 1900-01-01 17:03:00+00:00          17:03  \n",
       "\n",
       "[1228277 rows x 14 columns]"
      ]
     },
     "execution_count": 20,
     "metadata": {},
     "output_type": "execute_result"
    }
   ],
   "source": [
    "df"
   ]
  },
  {
   "cell_type": "code",
   "execution_count": 21,
   "id": "63f491d9",
   "metadata": {},
   "outputs": [
    {
     "data": {
      "text/plain": [
       "0    1900-01-01 10:09:00-10:31\n",
       "1    1900-01-01 10:28:00-10:31\n",
       "2    1900-01-01 07:17:00-10:31\n",
       "3    1900-01-01 05:16:00-10:31\n",
       "4    1900-01-01 07:54:00-10:31\n",
       "Name: localtime, dtype: object"
      ]
     },
     "execution_count": 21,
     "metadata": {},
     "output_type": "execute_result"
    }
   ],
   "source": [
    "df['localtime'].head()"
   ]
  },
  {
   "cell_type": "code",
   "execution_count": 22,
   "id": "26682815",
   "metadata": {},
   "outputs": [
    {
     "data": {
      "text/plain": [
       "0    Pacific/Honolulu\n",
       "1    Pacific/Honolulu\n",
       "2    Pacific/Honolulu\n",
       "3    Pacific/Honolulu\n",
       "4    Pacific/Honolulu\n",
       "Name: time_zones, dtype: object"
      ]
     },
     "execution_count": 22,
     "metadata": {},
     "output_type": "execute_result"
    }
   ],
   "source": [
    "df['time_zones'].head()"
   ]
  },
  {
   "cell_type": "code",
   "execution_count": 23,
   "id": "32fab3fc",
   "metadata": {},
   "outputs": [
    {
     "data": {
      "text/plain": [
       "1228277"
      ]
     },
     "execution_count": 23,
     "metadata": {},
     "output_type": "execute_result"
    }
   ],
   "source": [
    "len(fortrainData.isnull())"
   ]
  },
  {
   "cell_type": "code",
   "execution_count": null,
   "id": "caa1a3d6",
   "metadata": {},
   "outputs": [],
   "source": []
  },
  {
   "cell_type": "code",
   "execution_count": 24,
   "id": "b89118d5",
   "metadata": {},
   "outputs": [
    {
     "data": {
      "text/plain": [
       "1228277"
      ]
     },
     "execution_count": 24,
     "metadata": {},
     "output_type": "execute_result"
    }
   ],
   "source": [
    "len(fortrainData.notnull())"
   ]
  },
  {
   "cell_type": "markdown",
   "id": "671160a3",
   "metadata": {},
   "source": [
    "# Finding Length unknown values of all columns"
   ]
  },
  {
   "cell_type": "code",
   "execution_count": 9,
   "id": "6a7c2527",
   "metadata": {},
   "outputs": [
    {
     "data": {
      "text/html": [
       "<div>\n",
       "<style scoped>\n",
       "    .dataframe tbody tr th:only-of-type {\n",
       "        vertical-align: middle;\n",
       "    }\n",
       "\n",
       "    .dataframe tbody tr th {\n",
       "        vertical-align: top;\n",
       "    }\n",
       "\n",
       "    .dataframe thead th {\n",
       "        text-align: right;\n",
       "    }\n",
       "</style>\n",
       "<table border=\"1\" class=\"dataframe\">\n",
       "  <thead>\n",
       "    <tr style=\"text-align: right;\">\n",
       "      <th></th>\n",
       "      <th>state</th>\n",
       "      <th>personexactage</th>\n",
       "      <th>IsMobile</th>\n",
       "      <th>estimatedincomecode</th>\n",
       "      <th>day</th>\n",
       "      <th>duration</th>\n",
       "    </tr>\n",
       "  </thead>\n",
       "  <tbody>\n",
       "  </tbody>\n",
       "</table>\n",
       "</div>"
      ],
      "text/plain": [
       "Empty DataFrame\n",
       "Columns: [state, personexactage, IsMobile, estimatedincomecode, day, duration]\n",
       "Index: []"
      ]
     },
     "execution_count": 9,
     "metadata": {},
     "output_type": "execute_result"
    }
   ],
   "source": [
    "fortrainData[fortrainData['estimatedincomecode']== 'U']\n",
    "fortrainData[fortrainData['IsMobile']== 'U']\n",
    "fortrainData[fortrainData['personexactage']== 'U']\n",
    "fortrainData[fortrainData['state']== 'U']\n",
    "#fortrainData[fortrainData['FullPhoneNumber']== 'U']\n",
    "# fortrainData[fortrainData['datetime\t']== 'U']\n",
    "fortrainData[fortrainData['day']== 'U']\n",
    "fortrainData[fortrainData['duration']== 'U']"
   ]
  },
  {
   "cell_type": "code",
   "execution_count": 10,
   "id": "901c2a62",
   "metadata": {},
   "outputs": [],
   "source": [
    "fortrainData = fortrainData[fortrainData['estimatedincomecode'] != 'U']\n",
    "fortrainData = fortrainData[fortrainData['duration'] != 'U']"
   ]
  },
  {
   "cell_type": "code",
   "execution_count": 11,
   "id": "6135918a",
   "metadata": {},
   "outputs": [],
   "source": [
    "fortrainData['personexactage'] = fortrainData['personexactage'].astype(int)"
   ]
  },
  {
   "cell_type": "code",
   "execution_count": 12,
   "id": "1f9e75e7",
   "metadata": {},
   "outputs": [
    {
     "data": {
      "text/html": [
       "<div>\n",
       "<style scoped>\n",
       "    .dataframe tbody tr th:only-of-type {\n",
       "        vertical-align: middle;\n",
       "    }\n",
       "\n",
       "    .dataframe tbody tr th {\n",
       "        vertical-align: top;\n",
       "    }\n",
       "\n",
       "    .dataframe thead th {\n",
       "        text-align: right;\n",
       "    }\n",
       "</style>\n",
       "<table border=\"1\" class=\"dataframe\">\n",
       "  <thead>\n",
       "    <tr style=\"text-align: right;\">\n",
       "      <th></th>\n",
       "      <th>state</th>\n",
       "      <th>personexactage</th>\n",
       "      <th>IsMobile</th>\n",
       "      <th>estimatedincomecode</th>\n",
       "      <th>day</th>\n",
       "      <th>duration</th>\n",
       "    </tr>\n",
       "  </thead>\n",
       "  <tbody>\n",
       "    <tr>\n",
       "      <th>0</th>\n",
       "      <td>HI</td>\n",
       "      <td>61</td>\n",
       "      <td>0</td>\n",
       "      <td>M</td>\n",
       "      <td>Thursday</td>\n",
       "      <td>0</td>\n",
       "    </tr>\n",
       "    <tr>\n",
       "      <th>1</th>\n",
       "      <td>HI</td>\n",
       "      <td>55</td>\n",
       "      <td>0</td>\n",
       "      <td>O</td>\n",
       "      <td>Wednesday</td>\n",
       "      <td>0</td>\n",
       "    </tr>\n",
       "    <tr>\n",
       "      <th>2</th>\n",
       "      <td>HI</td>\n",
       "      <td>64</td>\n",
       "      <td>1</td>\n",
       "      <td>M</td>\n",
       "      <td>Friday</td>\n",
       "      <td>0</td>\n",
       "    </tr>\n",
       "    <tr>\n",
       "      <th>3</th>\n",
       "      <td>HI</td>\n",
       "      <td>74</td>\n",
       "      <td>0</td>\n",
       "      <td>N</td>\n",
       "      <td>Friday</td>\n",
       "      <td>277</td>\n",
       "    </tr>\n",
       "    <tr>\n",
       "      <th>4</th>\n",
       "      <td>HI</td>\n",
       "      <td>74</td>\n",
       "      <td>0</td>\n",
       "      <td>N</td>\n",
       "      <td>Tuesday</td>\n",
       "      <td>0</td>\n",
       "    </tr>\n",
       "    <tr>\n",
       "      <th>...</th>\n",
       "      <td>...</td>\n",
       "      <td>...</td>\n",
       "      <td>...</td>\n",
       "      <td>...</td>\n",
       "      <td>...</td>\n",
       "      <td>...</td>\n",
       "    </tr>\n",
       "    <tr>\n",
       "      <th>1228272</th>\n",
       "      <td>WY</td>\n",
       "      <td>63</td>\n",
       "      <td>0</td>\n",
       "      <td>F</td>\n",
       "      <td>Tuesday</td>\n",
       "      <td>0</td>\n",
       "    </tr>\n",
       "    <tr>\n",
       "      <th>1228273</th>\n",
       "      <td>WY</td>\n",
       "      <td>63</td>\n",
       "      <td>0</td>\n",
       "      <td>F</td>\n",
       "      <td>Monday</td>\n",
       "      <td>0</td>\n",
       "    </tr>\n",
       "    <tr>\n",
       "      <th>1228274</th>\n",
       "      <td>WY</td>\n",
       "      <td>63</td>\n",
       "      <td>0</td>\n",
       "      <td>F</td>\n",
       "      <td>Monday</td>\n",
       "      <td>21</td>\n",
       "    </tr>\n",
       "    <tr>\n",
       "      <th>1228275</th>\n",
       "      <td>WY</td>\n",
       "      <td>63</td>\n",
       "      <td>0</td>\n",
       "      <td>F</td>\n",
       "      <td>Thursday</td>\n",
       "      <td>20</td>\n",
       "    </tr>\n",
       "    <tr>\n",
       "      <th>1228276</th>\n",
       "      <td>WY</td>\n",
       "      <td>40</td>\n",
       "      <td>1</td>\n",
       "      <td>E</td>\n",
       "      <td>Saturday</td>\n",
       "      <td>0</td>\n",
       "    </tr>\n",
       "  </tbody>\n",
       "</table>\n",
       "<p>1223552 rows × 6 columns</p>\n",
       "</div>"
      ],
      "text/plain": [
       "        state  personexactage  IsMobile estimatedincomecode        day  \\\n",
       "0          HI              61         0                   M   Thursday   \n",
       "1          HI              55         0                   O  Wednesday   \n",
       "2          HI              64         1                   M     Friday   \n",
       "3          HI              74         0                   N     Friday   \n",
       "4          HI              74         0                   N    Tuesday   \n",
       "...       ...             ...       ...                 ...        ...   \n",
       "1228272    WY              63         0                   F    Tuesday   \n",
       "1228273    WY              63         0                   F     Monday   \n",
       "1228274    WY              63         0                   F     Monday   \n",
       "1228275    WY              63         0                   F   Thursday   \n",
       "1228276    WY              40         1                   E   Saturday   \n",
       "\n",
       "         duration  \n",
       "0               0  \n",
       "1               0  \n",
       "2               0  \n",
       "3             277  \n",
       "4               0  \n",
       "...           ...  \n",
       "1228272         0  \n",
       "1228273         0  \n",
       "1228274        21  \n",
       "1228275        20  \n",
       "1228276         0  \n",
       "\n",
       "[1223552 rows x 6 columns]"
      ]
     },
     "execution_count": 12,
     "metadata": {},
     "output_type": "execute_result"
    }
   ],
   "source": [
    "fortrainData"
   ]
  },
  {
   "cell_type": "code",
   "execution_count": 13,
   "id": "3c63db6f",
   "metadata": {},
   "outputs": [
    {
     "data": {
      "text/plain": [
       "<AxesSubplot:xlabel='personexactage', ylabel='duration'>"
      ]
     },
     "execution_count": 13,
     "metadata": {},
     "output_type": "execute_result"
    },
    {
     "data": {
      "image/png": "[encoded data removed]",
      "text/plain": [
       "<Figure size 1440x720 with 1 Axes>"
      ]
     },
     "metadata": {
      "needs_background": "light"
     },
     "output_type": "display_data"
    }
   ],
   "source": [
    "fortrainData.plot.scatter('personexactage', 'duration', figsize = (20,10))"
   ]
  },
  {
   "cell_type": "markdown",
   "id": "86cbfd5c",
   "metadata": {},
   "source": [
    "# Encoding State"
   ]
  },
  {
   "cell_type": "code",
   "execution_count": 14,
   "id": "218921fa",
   "metadata": {},
   "outputs": [
    {
     "name": "stdout",
     "output_type": "stream",
     "text": [
      "state\n",
      "AK       347\n",
      "AL    106803\n",
      "AR     33284\n",
      "AZ     47709\n",
      "CO     43609\n",
      "CT     64944\n",
      "DC     11402\n",
      "DE     15506\n",
      "HI       381\n",
      "IA     56757\n",
      "ID     22016\n",
      "KS     33475\n",
      "KY     59665\n",
      "ME     22163\n",
      "MN     37748\n",
      "MO     84111\n",
      "MS     41072\n",
      "MT     17607\n",
      "ND      8322\n",
      "NE     20167\n",
      "NH     17128\n",
      "NM     19020\n",
      "NV     31510\n",
      "OK     37069\n",
      "OR     42186\n",
      "RI     19726\n",
      "SC     57622\n",
      "SD      8365\n",
      "TN     76462\n",
      "UT     28847\n",
      "WA     54034\n",
      "WI     73930\n",
      "WV     25077\n",
      "WY      5488\n",
      "dtype: int64\n",
      "34\n",
      "{'NH', 'AR', 'DE', 'WV', 'NE', 'ID', 'NM', 'MT', 'SC', 'UT', 'SD', 'AL', 'KY', 'RI', 'AZ', 'IA', 'CT', 'WI', 'MS', 'MN', 'CO', 'OK', 'ME', 'AK', 'KS', 'OR', 'NV', 'ND', 'MO', 'TN', 'WA', 'HI', 'WY', 'DC'}\n"
     ]
    }
   ],
   "source": [
    "print(fortrainData.groupby('state').size())\n",
    "print(len(fortrainData.groupby('state')))\n",
    "print(set(fortrainData['state']))"
   ]
  },
  {
   "cell_type": "markdown",
   "id": "e088cfe5",
   "metadata": {},
   "source": [
    "### Indexing"
   ]
  },
  {
   "cell_type": "code",
   "execution_count": 15,
   "id": "81e347f2",
   "metadata": {},
   "outputs": [
    {
     "data": {
      "text/plain": [
       "state\n",
       "0      17128\n",
       "1      33284\n",
       "2      15506\n",
       "3      25077\n",
       "4      20167\n",
       "5      22016\n",
       "6      19020\n",
       "7      17607\n",
       "8      57622\n",
       "9      28847\n",
       "10      8365\n",
       "11    106803\n",
       "12     59665\n",
       "13     19726\n",
       "14     47709\n",
       "15     56757\n",
       "16     64944\n",
       "17     73930\n",
       "18     41072\n",
       "19     37748\n",
       "20     43609\n",
       "21     37069\n",
       "22     22163\n",
       "23       347\n",
       "24     33475\n",
       "25     42186\n",
       "26     31510\n",
       "27      8322\n",
       "28     84111\n",
       "29     76462\n",
       "30     54034\n",
       "31       381\n",
       "32      5488\n",
       "33     11402\n",
       "dtype: int64"
      ]
     },
     "execution_count": 15,
     "metadata": {},
     "output_type": "execute_result"
    }
   ],
   "source": [
    "fortrainData['state'].replace(to_replace = set(fortrainData['state']), value = np.arange(0,34), inplace = True)\n",
    "fortrainData.groupby('state').size()\n"
   ]
  },
  {
   "cell_type": "markdown",
   "id": "4f70cea4",
   "metadata": {},
   "source": [
    "### One-hot encoding state column"
   ]
  },
  {
   "cell_type": "code",
   "execution_count": 17,
   "id": "c46db5ce",
   "metadata": {},
   "outputs": [
    {
     "data": {
      "text/plain": [
       "array([[0., 0., 0., ..., 1., 0., 0.],\n",
       "       [0., 0., 0., ..., 1., 0., 0.],\n",
       "       [0., 0., 0., ..., 1., 0., 0.],\n",
       "       ...,\n",
       "       [0., 0., 0., ..., 0., 1., 0.],\n",
       "       [0., 0., 0., ..., 0., 1., 0.],\n",
       "       [0., 0., 0., ..., 0., 1., 0.]], dtype=float32)"
      ]
     },
     "execution_count": 17,
     "metadata": {},
     "output_type": "execute_result"
    }
   ],
   "source": [
    "from tensorflow.keras.utils import to_categorical\n",
    "state_encoded_data = to_categorical(fortrainData['state'])\n",
    "state_encoded_data\n"
   ]
  },
  {
   "cell_type": "markdown",
   "id": "57d18bb0",
   "metadata": {},
   "source": [
    "# Encoding Income Data"
   ]
  },
  {
   "cell_type": "code",
   "execution_count": 18,
   "id": "bd5de558",
   "metadata": {},
   "outputs": [
    {
     "name": "stdout",
     "output_type": "stream",
     "text": [
      "estimatedincomecode\n",
      "A     41257\n",
      "B    139621\n",
      "C     54703\n",
      "D     30354\n",
      "E     74349\n",
      "F     32080\n",
      "G     66151\n",
      "H     35715\n",
      "I     68935\n",
      "J     41435\n",
      "K     73067\n",
      "L     49496\n",
      "M     92943\n",
      "N    185469\n",
      "O    145576\n",
      "P     19019\n",
      "Q     26774\n",
      "R     21629\n",
      "S     24979\n",
      "dtype: int64\n",
      "19\n",
      "{'E', 'R', 'S', 'B', 'A', 'F', 'C', 'K', 'D', 'G', 'Q', 'J', 'O', 'L', 'P', 'M', 'H', 'I', 'N'}\n"
     ]
    }
   ],
   "source": [
    "print(fortrainData.groupby('estimatedincomecode').size())\n",
    "print(len(fortrainData.groupby('estimatedincomecode')))\n",
    "print(set(fortrainData['estimatedincomecode']))"
   ]
  },
  {
   "cell_type": "markdown",
   "id": "46522453",
   "metadata": {},
   "source": [
    "### Indexing Income data"
   ]
  },
  {
   "cell_type": "code",
   "execution_count": 19,
   "id": "97bc99b0",
   "metadata": {},
   "outputs": [
    {
     "data": {
      "text/plain": [
       "estimatedincomecode\n",
       "0      74349\n",
       "1      21629\n",
       "2      24979\n",
       "3     139621\n",
       "4      41257\n",
       "5      32080\n",
       "6      54703\n",
       "7      73067\n",
       "8      30354\n",
       "9      66151\n",
       "10     26774\n",
       "11     41435\n",
       "12    145576\n",
       "13     49496\n",
       "14     19019\n",
       "15     92943\n",
       "16     35715\n",
       "17     68935\n",
       "18    185469\n",
       "dtype: int64"
      ]
     },
     "execution_count": 19,
     "metadata": {},
     "output_type": "execute_result"
    }
   ],
   "source": [
    "fortrainData['estimatedincomecode'].replace(to_replace = set(fortrainData['estimatedincomecode']), value = np.arange(0,19), inplace = True)\n",
    "fortrainData.groupby('estimatedincomecode').size()"
   ]
  },
  {
   "cell_type": "markdown",
   "id": "23743f85",
   "metadata": {},
   "source": [
    "### One-hot encoding income column"
   ]
  },
  {
   "cell_type": "code",
   "execution_count": 20,
   "id": "22df5872",
   "metadata": {},
   "outputs": [
    {
     "data": {
      "text/plain": [
       "array([[0., 0., 0., ..., 0., 0., 0.],\n",
       "       [0., 0., 0., ..., 0., 0., 0.],\n",
       "       [0., 0., 0., ..., 0., 0., 0.],\n",
       "       ...,\n",
       "       [0., 0., 0., ..., 0., 0., 0.],\n",
       "       [0., 0., 0., ..., 0., 0., 0.],\n",
       "       [1., 0., 0., ..., 0., 0., 0.]], dtype=float32)"
      ]
     },
     "execution_count": 20,
     "metadata": {},
     "output_type": "execute_result"
    }
   ],
   "source": [
    "from tensorflow.keras.utils import to_categorical\n",
    "income_encoded_data = to_categorical(fortrainData['estimatedincomecode'])\n",
    "income_encoded_data\n"
   ]
  },
  {
   "cell_type": "markdown",
   "id": "00865d92",
   "metadata": {},
   "source": [
    "# Encoding Day Data"
   ]
  },
  {
   "cell_type": "code",
   "execution_count": 21,
   "id": "4d529702",
   "metadata": {},
   "outputs": [
    {
     "name": "stdout",
     "output_type": "stream",
     "text": [
      "day\n",
      "Friday       233027\n",
      "Monday       315966\n",
      "Saturday      47914\n",
      "Thursday     243315\n",
      "Tuesday      221009\n",
      "Wednesday    162321\n",
      "dtype: int64\n",
      "6\n",
      "{'Thursday', 'Saturday', 'Monday', 'Tuesday', 'Wednesday', 'Friday'}\n"
     ]
    }
   ],
   "source": [
    "print(fortrainData.groupby('day').size())\n",
    "print(len(fortrainData.groupby('day')))\n",
    "print(set(fortrainData['day']))"
   ]
  },
  {
   "cell_type": "markdown",
   "id": "1a89291b",
   "metadata": {},
   "source": [
    "\n",
    "### Indexing day data"
   ]
  },
  {
   "cell_type": "code",
   "execution_count": 22,
   "id": "b3b2a3c3",
   "metadata": {},
   "outputs": [
    {
     "data": {
      "text/plain": [
       "day\n",
       "0    243315\n",
       "1     47914\n",
       "2    315966\n",
       "3    221009\n",
       "4    162321\n",
       "5    233027\n",
       "dtype: int64"
      ]
     },
     "execution_count": 22,
     "metadata": {},
     "output_type": "execute_result"
    }
   ],
   "source": [
    "fortrainData['day'].replace(to_replace = set(fortrainData['day']), value = np.arange(0,6), inplace = True)\n",
    "fortrainData.groupby('day').size()"
   ]
  },
  {
   "cell_type": "markdown",
   "id": "9a8b70b2",
   "metadata": {},
   "source": [
    "### One-hot encoding day column"
   ]
  },
  {
   "cell_type": "code",
   "execution_count": 23,
   "id": "fbc3b38a",
   "metadata": {},
   "outputs": [
    {
     "data": {
      "text/plain": [
       "array([[1., 0., 0., 0., 0., 0.],\n",
       "       [0., 0., 0., 0., 1., 0.],\n",
       "       [0., 0., 0., 0., 0., 1.],\n",
       "       ...,\n",
       "       [0., 0., 1., 0., 0., 0.],\n",
       "       [1., 0., 0., 0., 0., 0.],\n",
       "       [0., 1., 0., 0., 0., 0.]], dtype=float32)"
      ]
     },
     "execution_count": 23,
     "metadata": {},
     "output_type": "execute_result"
    }
   ],
   "source": [
    "day_encoded_data = to_categorical(fortrainData['day'])\n",
    "day_encoded_data"
   ]
  },
  {
   "cell_type": "code",
   "execution_count": 24,
   "id": "1b539e32",
   "metadata": {},
   "outputs": [
    {
     "name": "stdout",
     "output_type": "stream",
     "text": [
      "1223552\n",
      "1223552\n",
      "1223552\n",
      "1223552\n",
      "1223552\n"
     ]
    }
   ],
   "source": [
    "print(len(state_encoded_data))\n",
    "print(len(income_encoded_data))\n",
    "print(len(day_encoded_data))\n",
    "print(len(fortrainData['personexactage']))\n",
    "print(len(fortrainData['IsMobile']))\n"
   ]
  },
  {
   "cell_type": "code",
   "execution_count": 26,
   "id": "12844916",
   "metadata": {},
   "outputs": [],
   "source": [
    "# day_encoded_data_str_list = []\n",
    "\n",
    "# for i in range(len(day_encoded_data_str)):\n",
    "# #     day_encoded_data_str[i] = str(day_encoded_data_str[i])\n",
    "#     day_encoded_data_str_list.append(str(day_encoded_data_str[i]))"
   ]
  },
  {
   "cell_type": "code",
   "execution_count": 27,
   "id": "3e11e7df",
   "metadata": {},
   "outputs": [],
   "source": [
    "# day_encoded_data_str_list"
   ]
  },
  {
   "cell_type": "code",
   "execution_count": 28,
   "id": "f7abd9d4",
   "metadata": {},
   "outputs": [],
   "source": [
    "# day_encoded_data_str"
   ]
  },
  {
   "cell_type": "code",
   "execution_count": 29,
   "id": "e302a9ff",
   "metadata": {},
   "outputs": [],
   "source": [
    "# fortrainData['Day_Encoded_Data'] = day_encoded_data_str"
   ]
  },
  {
   "cell_type": "code",
   "execution_count": 30,
   "id": "d4cd958f",
   "metadata": {},
   "outputs": [],
   "source": [
    "# fortrainData"
   ]
  },
  {
   "cell_type": "code",
   "execution_count": 31,
   "id": "cad8ea40",
   "metadata": {},
   "outputs": [],
   "source": [
    "# fortrainData.loc[:,'state_encoded_data'] = state_encoded_data"
   ]
  },
  {
   "cell_type": "code",
   "execution_count": 33,
   "id": "af5e341d",
   "metadata": {},
   "outputs": [],
   "source": [
    "# for i in day_encoded_data:\n",
    "#     print(i)"
   ]
  },
  {
   "cell_type": "code",
   "execution_count": null,
   "id": "7390358c",
   "metadata": {},
   "outputs": [],
   "source": [
    "fortrainData['day']"
   ]
  },
  {
   "cell_type": "code",
   "execution_count": 34,
   "id": "c0d8decc",
   "metadata": {},
   "outputs": [
    {
     "name": "stdout",
     "output_type": "stream",
     "text": [
      "1223552\n",
      "1223552\n",
      "1223552\n"
     ]
    }
   ],
   "source": [
    "print(len(state_encoded_data))\n",
    "print(len(income_encoded_data))\n",
    "print(len(day_encoded_data))\n"
   ]
  },
  {
   "cell_type": "code",
   "execution_count": 35,
   "id": "f120a308",
   "metadata": {},
   "outputs": [
    {
     "data": {
      "text/plain": [
       "numpy.ndarray"
      ]
     },
     "execution_count": 35,
     "metadata": {},
     "output_type": "execute_result"
    }
   ],
   "source": [
    "type(state_encoded_data)"
   ]
  },
  {
   "cell_type": "code",
   "execution_count": 37,
   "id": "9f9a2f15",
   "metadata": {},
   "outputs": [],
   "source": [
    "# for i in state_encoded_data:\n",
    "#     df = pd.DataFrame(columns = ['Column_A'], data = i)\n"
   ]
  },
  {
   "cell_type": "code",
   "execution_count": null,
   "id": "f4824733",
   "metadata": {},
   "outputs": [],
   "source": [
    "oh_column = fortrainData['day']"
   ]
  },
  {
   "cell_type": "code",
   "execution_count": null,
   "id": "1d852f95",
   "metadata": {},
   "outputs": [],
   "source": [
    "oh_df = fortrainData"
   ]
  },
  {
   "cell_type": "code",
   "execution_count": null,
   "id": "6249f224",
   "metadata": {},
   "outputs": [],
   "source": [
    "days_enocindg= {\n",
    "0 : [1,0,0,0,0,0],\n",
    "    1 : [0, 1,0,0,0,0],\n",
    "        2 : [0,0,1,0,0,0],\n",
    "            3 : [0,0,0,1,0,0],\n",
    "                4 : [0,0,0,0,1,0],\n",
    "                    5 : [0,0,0,0,0,1]\n",
    "}\n",
    "\n"
   ]
  },
  {
   "cell_type": "code",
   "execution_count": null,
   "id": "b9a13d2f",
   "metadata": {},
   "outputs": [],
   "source": [
    "{0 : [1,0,0,0,0,0], 1 : [0, 1,0,0,0,0], 2 : [0,0,1,0,0,0], 3 : [0,0,0,1,0,0], 4 : [0,0,0,0,1,0], 5 : [0,0,0,0,0,1]}"
   ]
  },
  {
   "cell_type": "code",
   "execution_count": null,
   "id": "8a07e8a3",
   "metadata": {},
   "outputs": [],
   "source": [
    "oh_column[0]"
   ]
  },
  {
   "cell_type": "code",
   "execution_count": null,
   "id": "7696fbfb",
   "metadata": {},
   "outputs": [],
   "source": [
    "# for i in range(len(oh_column)):\n",
    "#     print(oh_column[i])"
   ]
  },
  {
   "cell_type": "code",
   "execution_count": null,
   "id": "b05a68c3",
   "metadata": {},
   "outputs": [],
   "source": [
    "# oh_df\n",
    "\n",
    "for i in range(len(oh_column)):\n",
    "    print(oh_column[i])"
   ]
  },
  {
   "cell_type": "code",
   "execution_count": null,
   "id": "5a1a3767",
   "metadata": {},
   "outputs": [],
   "source": [
    "oh_column_df = pd.DataFrame(oh_column)"
   ]
  },
  {
   "cell_type": "code",
   "execution_count": null,
   "id": "9fca5b66",
   "metadata": {},
   "outputs": [],
   "source": [
    "type(oh_column)"
   ]
  },
  {
   "cell_type": "code",
   "execution_count": null,
   "id": "a200a8a4",
   "metadata": {},
   "outputs": [],
   "source": [
    "type(oh_column_df)"
   ]
  },
  {
   "cell_type": "code",
   "execution_count": null,
   "id": "f8cd399c",
   "metadata": {},
   "outputs": [],
   "source": [
    "# oh_column_df"
   ]
  },
  {
   "cell_type": "code",
   "execution_count": null,
   "id": "ecb48ddd",
   "metadata": {},
   "outputs": [],
   "source": [
    "# # oh_df['day'].replace(days_enocindg, inplace=True)\n",
    "\n",
    "# oh_df['day'].replace({0 : [1,0,0,0,0,0], 1 : [0, 1,0,0,0,0], 2 : [0,0,1,0,0,0], 3 : [0,0,0,1,0,0], 4 : [0,0,0,0,1,0], 5 : [0,0,0,0,0,1]})"
   ]
  },
  {
   "cell_type": "code",
   "execution_count": null,
   "id": "e7e51bf8",
   "metadata": {},
   "outputs": [],
   "source": [
    "# oh_df['day'].unique()"
   ]
  },
  {
   "cell_type": "code",
   "execution_count": null,
   "id": "1e5b4ce4",
   "metadata": {},
   "outputs": [],
   "source": [
    "# days_enocindg= {\n",
    "# 0 : [1,0,0,0,0,0],\n",
    "#     1 : [0, 1,0,0,0,0],\n",
    "#         2 : [0,0,1,0,0,0],\n",
    "#             3 : [0,0,0,1,0,0],\n",
    "#                 4 : [0,0,0,0,1,0],\n",
    "#                     5 : [0,0,0,0,0,1]\n",
    "# }\n",
    "# for i,j in days_enocindg.items():\n",
    "#     for j in fortrainData['day']:\n",
    "#         if i == j:\n",
    "#             print(i)\n"
   ]
  },
  {
   "cell_type": "code",
   "execution_count": null,
   "id": "cb6cba66",
   "metadata": {},
   "outputs": [],
   "source": [
    "# df = fortrainData.copy()\n",
    "# df['newday'] = df['day'].replace(days_enocindg)\n",
    "# df"
   ]
  },
  {
   "cell_type": "code",
   "execution_count": null,
   "id": "dd47a0c5",
   "metadata": {},
   "outputs": [],
   "source": [
    "# for i, j in days_enocindg.items():\n",
    "#     print(i)\n",
    "# #     for d in fortrainData['day']:\n",
    "# #         #print(d)\n",
    "# #         if i == d:\n",
    "# #             print(j)"
   ]
  },
  {
   "cell_type": "markdown",
   "id": "b9a2147e",
   "metadata": {},
   "source": [
    "# Seperating Data for Training"
   ]
  },
  {
   "cell_type": "code",
   "execution_count": 38,
   "id": "ce09634a",
   "metadata": {},
   "outputs": [
    {
     "data": {
      "text/html": [
       "<div>\n",
       "<style scoped>\n",
       "    .dataframe tbody tr th:only-of-type {\n",
       "        vertical-align: middle;\n",
       "    }\n",
       "\n",
       "    .dataframe tbody tr th {\n",
       "        vertical-align: top;\n",
       "    }\n",
       "\n",
       "    .dataframe thead th {\n",
       "        text-align: right;\n",
       "    }\n",
       "</style>\n",
       "<table border=\"1\" class=\"dataframe\">\n",
       "  <thead>\n",
       "    <tr style=\"text-align: right;\">\n",
       "      <th></th>\n",
       "      <th>personexactage</th>\n",
       "      <th>IsMobile</th>\n",
       "    </tr>\n",
       "  </thead>\n",
       "  <tbody>\n",
       "    <tr>\n",
       "      <th>0</th>\n",
       "      <td>61</td>\n",
       "      <td>0</td>\n",
       "    </tr>\n",
       "    <tr>\n",
       "      <th>1</th>\n",
       "      <td>55</td>\n",
       "      <td>0</td>\n",
       "    </tr>\n",
       "    <tr>\n",
       "      <th>2</th>\n",
       "      <td>64</td>\n",
       "      <td>1</td>\n",
       "    </tr>\n",
       "    <tr>\n",
       "      <th>3</th>\n",
       "      <td>74</td>\n",
       "      <td>0</td>\n",
       "    </tr>\n",
       "    <tr>\n",
       "      <th>4</th>\n",
       "      <td>74</td>\n",
       "      <td>0</td>\n",
       "    </tr>\n",
       "    <tr>\n",
       "      <th>...</th>\n",
       "      <td>...</td>\n",
       "      <td>...</td>\n",
       "    </tr>\n",
       "    <tr>\n",
       "      <th>1228272</th>\n",
       "      <td>63</td>\n",
       "      <td>0</td>\n",
       "    </tr>\n",
       "    <tr>\n",
       "      <th>1228273</th>\n",
       "      <td>63</td>\n",
       "      <td>0</td>\n",
       "    </tr>\n",
       "    <tr>\n",
       "      <th>1228274</th>\n",
       "      <td>63</td>\n",
       "      <td>0</td>\n",
       "    </tr>\n",
       "    <tr>\n",
       "      <th>1228275</th>\n",
       "      <td>63</td>\n",
       "      <td>0</td>\n",
       "    </tr>\n",
       "    <tr>\n",
       "      <th>1228276</th>\n",
       "      <td>40</td>\n",
       "      <td>1</td>\n",
       "    </tr>\n",
       "  </tbody>\n",
       "</table>\n",
       "<p>1223552 rows × 2 columns</p>\n",
       "</div>"
      ],
      "text/plain": [
       "         personexactage  IsMobile\n",
       "0                    61         0\n",
       "1                    55         0\n",
       "2                    64         1\n",
       "3                    74         0\n",
       "4                    74         0\n",
       "...                 ...       ...\n",
       "1228272              63         0\n",
       "1228273              63         0\n",
       "1228274              63         0\n",
       "1228275              63         0\n",
       "1228276              40         1\n",
       "\n",
       "[1223552 rows x 2 columns]"
      ]
     },
     "execution_count": 38,
     "metadata": {},
     "output_type": "execute_result"
    }
   ],
   "source": [
    "train_data =  fortrainData[['personexactage', 'IsMobile']]\n",
    "train_data\n"
   ]
  },
  {
   "cell_type": "code",
   "execution_count": 39,
   "id": "9e12ac4b",
   "metadata": {},
   "outputs": [
    {
     "data": {
      "text/plain": [
       "0            0\n",
       "1            0\n",
       "2            0\n",
       "3          277\n",
       "4            0\n",
       "          ... \n",
       "1228272      0\n",
       "1228273      0\n",
       "1228274     21\n",
       "1228275     20\n",
       "1228276      0\n",
       "Name: duration, Length: 1223552, dtype: int64"
      ]
     },
     "execution_count": 39,
     "metadata": {},
     "output_type": "execute_result"
    }
   ],
   "source": [
    "lables = fortrainData['duration']\n",
    "lables"
   ]
  },
  {
   "cell_type": "markdown",
   "id": "dea5f304",
   "metadata": {},
   "source": [
    "# Spliting Data"
   ]
  },
  {
   "cell_type": "code",
   "execution_count": 40,
   "id": "71a8b934",
   "metadata": {},
   "outputs": [
    {
     "name": "stdout",
     "output_type": "stream",
     "text": [
      "Train Data          personexactage  IsMobile\n",
      "743254               54         0\n",
      "40455                54         1\n",
      "1097773              80         0\n",
      "1226347              67         1\n",
      "1131754              69         0\n",
      "...                 ...       ...\n",
      "361023               41         1\n",
      "152796               68         0\n",
      "967057               82         1\n",
      "118308               69         1\n",
      "306840               87         0\n",
      "\n",
      "[917664 rows x 2 columns] \n",
      " Lenght of train Data 917664\n",
      "Test Data          personexactage  IsMobile\n",
      "126876               60         1\n",
      "1163197              82         0\n",
      "390985               52         1\n",
      "857330               50         1\n",
      "108431               70         1\n",
      "...                 ...       ...\n",
      "793413               70         1\n",
      "1161681              82         0\n",
      "938160               78         1\n",
      "377433               87         0\n",
      "896150               37         1\n",
      "\n",
      "[305888 rows x 2 columns] \n",
      " Lenght of Test Data 305888\n"
     ]
    }
   ],
   "source": [
    "from sklearn.model_selection import train_test_split\n",
    "\n",
    "# Seperating Data \"sklearn\" buildin Model\n",
    "X = train_data  \n",
    "# Seperating label column\n",
    "y = fortrainData['duration']\n",
    "\n",
    "# Spliting Data into two type(train, test)\n",
    "train_X, test_X, train_y, test_y = train_test_split(X, y, random_state = 0)\n",
    "print('Train Data',train_X,'\\n Lenght of train Data', len(train_X))\n",
    "print('Test Data',test_X,'\\n Lenght of Test Data', len(test_X))"
   ]
  },
  {
   "cell_type": "code",
   "execution_count": 41,
   "id": "fc3a70d2",
   "metadata": {},
   "outputs": [
    {
     "data": {
      "text/plain": [
       "(917664, 2)"
      ]
     },
     "execution_count": 41,
     "metadata": {},
     "output_type": "execute_result"
    }
   ],
   "source": [
    "train_X.shape"
   ]
  },
  {
   "cell_type": "code",
   "execution_count": 42,
   "id": "e913f88f",
   "metadata": {},
   "outputs": [
    {
     "data": {
      "text/plain": [
       "(305888, 2)"
      ]
     },
     "execution_count": 42,
     "metadata": {},
     "output_type": "execute_result"
    }
   ],
   "source": [
    "test_X.shape"
   ]
  },
  {
   "cell_type": "code",
   "execution_count": 43,
   "id": "6a3f6e9e",
   "metadata": {},
   "outputs": [
    {
     "data": {
      "text/plain": [
       "1223552"
      ]
     },
     "execution_count": 43,
     "metadata": {},
     "output_type": "execute_result"
    }
   ],
   "source": [
    "305888 +917664 "
   ]
  },
  {
   "cell_type": "code",
   "execution_count": 44,
   "id": "b9839ba2",
   "metadata": {},
   "outputs": [
    {
     "data": {
      "text/plain": [
       "(1223552, 2)"
      ]
     },
     "execution_count": 44,
     "metadata": {},
     "output_type": "execute_result"
    }
   ],
   "source": [
    "X.shape"
   ]
  },
  {
   "cell_type": "markdown",
   "id": "06bad5e9",
   "metadata": {},
   "source": [
    "# Training Model"
   ]
  },
  {
   "cell_type": "code",
   "execution_count": 45,
   "id": "5daaab32",
   "metadata": {},
   "outputs": [
    {
     "name": "stdout",
     "output_type": "stream",
     "text": [
      "Model Trained\n"
     ]
    }
   ],
   "source": [
    "from sklearn.linear_model import LinearRegression\n",
    "\n",
    "# Using Regression Model\n",
    "regression = LinearRegression()\n",
    "regression.fit(train_X, train_y)\n",
    "print('Model Trained')\n"
   ]
  },
  {
   "cell_type": "markdown",
   "id": "3f7fce1d",
   "metadata": {},
   "source": [
    "# Predicting Test Data"
   ]
  },
  {
   "cell_type": "code",
   "execution_count": 46,
   "id": "c668f7a9",
   "metadata": {},
   "outputs": [],
   "source": [
    "pred_test_data = regression.predict(test_X)"
   ]
  },
  {
   "cell_type": "code",
   "execution_count": 47,
   "id": "faf43a2b",
   "metadata": {},
   "outputs": [
    {
     "data": {
      "text/plain": [
       "126876      0\n",
       "1163197    28\n",
       "390985      8\n",
       "857330      0\n",
       "108431      0\n",
       "           ..\n",
       "793413      0\n",
       "1161681     0\n",
       "938160     11\n",
       "377433      0\n",
       "896150      0\n",
       "Name: duration, Length: 305888, dtype: int64"
      ]
     },
     "execution_count": 47,
     "metadata": {},
     "output_type": "execute_result"
    }
   ],
   "source": [
    "len(test_y)\n",
    "test_y"
   ]
  },
  {
   "cell_type": "code",
   "execution_count": 48,
   "id": "5aa47e79",
   "metadata": {},
   "outputs": [
    {
     "data": {
      "text/plain": [
       "305888"
      ]
     },
     "execution_count": 48,
     "metadata": {},
     "output_type": "execute_result"
    }
   ],
   "source": [
    "len(pred_test_data)"
   ]
  },
  {
   "cell_type": "markdown",
   "id": "2956fec4",
   "metadata": {},
   "source": [
    "# Gathering Results"
   ]
  },
  {
   "cell_type": "code",
   "execution_count": 49,
   "id": "27380355",
   "metadata": {},
   "outputs": [
    {
     "data": {
      "text/html": [
       "<div>\n",
       "<style scoped>\n",
       "    .dataframe tbody tr th:only-of-type {\n",
       "        vertical-align: middle;\n",
       "    }\n",
       "\n",
       "    .dataframe tbody tr th {\n",
       "        vertical-align: top;\n",
       "    }\n",
       "\n",
       "    .dataframe thead th {\n",
       "        text-align: right;\n",
       "    }\n",
       "</style>\n",
       "<table border=\"1\" class=\"dataframe\">\n",
       "  <thead>\n",
       "    <tr style=\"text-align: right;\">\n",
       "      <th></th>\n",
       "      <th>personexactage</th>\n",
       "      <th>IsMobile</th>\n",
       "    </tr>\n",
       "  </thead>\n",
       "  <tbody>\n",
       "    <tr>\n",
       "      <th>126876</th>\n",
       "      <td>60</td>\n",
       "      <td>1</td>\n",
       "    </tr>\n",
       "    <tr>\n",
       "      <th>1163197</th>\n",
       "      <td>82</td>\n",
       "      <td>0</td>\n",
       "    </tr>\n",
       "    <tr>\n",
       "      <th>390985</th>\n",
       "      <td>52</td>\n",
       "      <td>1</td>\n",
       "    </tr>\n",
       "    <tr>\n",
       "      <th>857330</th>\n",
       "      <td>50</td>\n",
       "      <td>1</td>\n",
       "    </tr>\n",
       "    <tr>\n",
       "      <th>108431</th>\n",
       "      <td>70</td>\n",
       "      <td>1</td>\n",
       "    </tr>\n",
       "    <tr>\n",
       "      <th>...</th>\n",
       "      <td>...</td>\n",
       "      <td>...</td>\n",
       "    </tr>\n",
       "    <tr>\n",
       "      <th>793413</th>\n",
       "      <td>70</td>\n",
       "      <td>1</td>\n",
       "    </tr>\n",
       "    <tr>\n",
       "      <th>1161681</th>\n",
       "      <td>82</td>\n",
       "      <td>0</td>\n",
       "    </tr>\n",
       "    <tr>\n",
       "      <th>938160</th>\n",
       "      <td>78</td>\n",
       "      <td>1</td>\n",
       "    </tr>\n",
       "    <tr>\n",
       "      <th>377433</th>\n",
       "      <td>87</td>\n",
       "      <td>0</td>\n",
       "    </tr>\n",
       "    <tr>\n",
       "      <th>896150</th>\n",
       "      <td>37</td>\n",
       "      <td>1</td>\n",
       "    </tr>\n",
       "  </tbody>\n",
       "</table>\n",
       "<p>305888 rows × 2 columns</p>\n",
       "</div>"
      ],
      "text/plain": [
       "         personexactage  IsMobile\n",
       "126876               60         1\n",
       "1163197              82         0\n",
       "390985               52         1\n",
       "857330               50         1\n",
       "108431               70         1\n",
       "...                 ...       ...\n",
       "793413               70         1\n",
       "1161681              82         0\n",
       "938160               78         1\n",
       "377433               87         0\n",
       "896150               37         1\n",
       "\n",
       "[305888 rows x 2 columns]"
      ]
     },
     "execution_count": 49,
     "metadata": {},
     "output_type": "execute_result"
    }
   ],
   "source": [
    "PredictDataFrame = pd.DataFrame(test_X)\n",
    "PredictDataFrame"
   ]
  },
  {
   "cell_type": "code",
   "execution_count": 50,
   "id": "3250304d",
   "metadata": {},
   "outputs": [],
   "source": [
    "PredictDataFrame['Actural Duration'] = test_y\n"
   ]
  },
  {
   "cell_type": "code",
   "execution_count": 51,
   "id": "17c72224",
   "metadata": {},
   "outputs": [
    {
     "data": {
      "text/html": [
       "<div>\n",
       "<style scoped>\n",
       "    .dataframe tbody tr th:only-of-type {\n",
       "        vertical-align: middle;\n",
       "    }\n",
       "\n",
       "    .dataframe tbody tr th {\n",
       "        vertical-align: top;\n",
       "    }\n",
       "\n",
       "    .dataframe thead th {\n",
       "        text-align: right;\n",
       "    }\n",
       "</style>\n",
       "<table border=\"1\" class=\"dataframe\">\n",
       "  <thead>\n",
       "    <tr style=\"text-align: right;\">\n",
       "      <th></th>\n",
       "      <th>personexactage</th>\n",
       "      <th>IsMobile</th>\n",
       "      <th>Actural Duration</th>\n",
       "    </tr>\n",
       "  </thead>\n",
       "  <tbody>\n",
       "    <tr>\n",
       "      <th>126876</th>\n",
       "      <td>60</td>\n",
       "      <td>1</td>\n",
       "      <td>0</td>\n",
       "    </tr>\n",
       "    <tr>\n",
       "      <th>1163197</th>\n",
       "      <td>82</td>\n",
       "      <td>0</td>\n",
       "      <td>28</td>\n",
       "    </tr>\n",
       "    <tr>\n",
       "      <th>390985</th>\n",
       "      <td>52</td>\n",
       "      <td>1</td>\n",
       "      <td>8</td>\n",
       "    </tr>\n",
       "    <tr>\n",
       "      <th>857330</th>\n",
       "      <td>50</td>\n",
       "      <td>1</td>\n",
       "      <td>0</td>\n",
       "    </tr>\n",
       "    <tr>\n",
       "      <th>108431</th>\n",
       "      <td>70</td>\n",
       "      <td>1</td>\n",
       "      <td>0</td>\n",
       "    </tr>\n",
       "    <tr>\n",
       "      <th>...</th>\n",
       "      <td>...</td>\n",
       "      <td>...</td>\n",
       "      <td>...</td>\n",
       "    </tr>\n",
       "    <tr>\n",
       "      <th>793413</th>\n",
       "      <td>70</td>\n",
       "      <td>1</td>\n",
       "      <td>0</td>\n",
       "    </tr>\n",
       "    <tr>\n",
       "      <th>1161681</th>\n",
       "      <td>82</td>\n",
       "      <td>0</td>\n",
       "      <td>0</td>\n",
       "    </tr>\n",
       "    <tr>\n",
       "      <th>938160</th>\n",
       "      <td>78</td>\n",
       "      <td>1</td>\n",
       "      <td>11</td>\n",
       "    </tr>\n",
       "    <tr>\n",
       "      <th>377433</th>\n",
       "      <td>87</td>\n",
       "      <td>0</td>\n",
       "      <td>0</td>\n",
       "    </tr>\n",
       "    <tr>\n",
       "      <th>896150</th>\n",
       "      <td>37</td>\n",
       "      <td>1</td>\n",
       "      <td>0</td>\n",
       "    </tr>\n",
       "  </tbody>\n",
       "</table>\n",
       "<p>305888 rows × 3 columns</p>\n",
       "</div>"
      ],
      "text/plain": [
       "         personexactage  IsMobile  Actural Duration\n",
       "126876               60         1                 0\n",
       "1163197              82         0                28\n",
       "390985               52         1                 8\n",
       "857330               50         1                 0\n",
       "108431               70         1                 0\n",
       "...                 ...       ...               ...\n",
       "793413               70         1                 0\n",
       "1161681              82         0                 0\n",
       "938160               78         1                11\n",
       "377433               87         0                 0\n",
       "896150               37         1                 0\n",
       "\n",
       "[305888 rows x 3 columns]"
      ]
     },
     "execution_count": 51,
     "metadata": {},
     "output_type": "execute_result"
    }
   ],
   "source": [
    "PredictDataFrame"
   ]
  },
  {
   "cell_type": "code",
   "execution_count": 52,
   "id": "83d1916a",
   "metadata": {},
   "outputs": [],
   "source": [
    "PredictDataFrame['Predicted Duration'] = pred_test_data"
   ]
  },
  {
   "cell_type": "code",
   "execution_count": 53,
   "id": "0d592a81",
   "metadata": {},
   "outputs": [
    {
     "data": {
      "text/html": [
       "<div>\n",
       "<style scoped>\n",
       "    .dataframe tbody tr th:only-of-type {\n",
       "        vertical-align: middle;\n",
       "    }\n",
       "\n",
       "    .dataframe tbody tr th {\n",
       "        vertical-align: top;\n",
       "    }\n",
       "\n",
       "    .dataframe thead th {\n",
       "        text-align: right;\n",
       "    }\n",
       "</style>\n",
       "<table border=\"1\" class=\"dataframe\">\n",
       "  <thead>\n",
       "    <tr style=\"text-align: right;\">\n",
       "      <th></th>\n",
       "      <th>personexactage</th>\n",
       "      <th>IsMobile</th>\n",
       "      <th>Actural Duration</th>\n",
       "      <th>Predicted Duration</th>\n",
       "    </tr>\n",
       "  </thead>\n",
       "  <tbody>\n",
       "    <tr>\n",
       "      <th>126876</th>\n",
       "      <td>60</td>\n",
       "      <td>1</td>\n",
       "      <td>0</td>\n",
       "      <td>14.047771</td>\n",
       "    </tr>\n",
       "    <tr>\n",
       "      <th>1163197</th>\n",
       "      <td>82</td>\n",
       "      <td>0</td>\n",
       "      <td>28</td>\n",
       "      <td>18.506239</td>\n",
       "    </tr>\n",
       "    <tr>\n",
       "      <th>390985</th>\n",
       "      <td>52</td>\n",
       "      <td>1</td>\n",
       "      <td>8</td>\n",
       "      <td>13.797626</td>\n",
       "    </tr>\n",
       "    <tr>\n",
       "      <th>857330</th>\n",
       "      <td>50</td>\n",
       "      <td>1</td>\n",
       "      <td>0</td>\n",
       "      <td>13.735090</td>\n",
       "    </tr>\n",
       "    <tr>\n",
       "      <th>108431</th>\n",
       "      <td>70</td>\n",
       "      <td>1</td>\n",
       "      <td>0</td>\n",
       "      <td>14.360452</td>\n",
       "    </tr>\n",
       "    <tr>\n",
       "      <th>93318</th>\n",
       "      <td>85</td>\n",
       "      <td>1</td>\n",
       "      <td>0</td>\n",
       "      <td>14.829474</td>\n",
       "    </tr>\n",
       "    <tr>\n",
       "      <th>437948</th>\n",
       "      <td>72</td>\n",
       "      <td>1</td>\n",
       "      <td>0</td>\n",
       "      <td>14.422988</td>\n",
       "    </tr>\n",
       "    <tr>\n",
       "      <th>1134826</th>\n",
       "      <td>52</td>\n",
       "      <td>1</td>\n",
       "      <td>9</td>\n",
       "      <td>13.797626</td>\n",
       "    </tr>\n",
       "    <tr>\n",
       "      <th>688335</th>\n",
       "      <td>46</td>\n",
       "      <td>1</td>\n",
       "      <td>0</td>\n",
       "      <td>13.610017</td>\n",
       "    </tr>\n",
       "    <tr>\n",
       "      <th>151700</th>\n",
       "      <td>27</td>\n",
       "      <td>1</td>\n",
       "      <td>9</td>\n",
       "      <td>13.015923</td>\n",
       "    </tr>\n",
       "  </tbody>\n",
       "</table>\n",
       "</div>"
      ],
      "text/plain": [
       "         personexactage  IsMobile  Actural Duration  Predicted Duration\n",
       "126876               60         1                 0           14.047771\n",
       "1163197              82         0                28           18.506239\n",
       "390985               52         1                 8           13.797626\n",
       "857330               50         1                 0           13.735090\n",
       "108431               70         1                 0           14.360452\n",
       "93318                85         1                 0           14.829474\n",
       "437948               72         1                 0           14.422988\n",
       "1134826              52         1                 9           13.797626\n",
       "688335               46         1                 0           13.610017\n",
       "151700               27         1                 9           13.015923"
      ]
     },
     "execution_count": 53,
     "metadata": {},
     "output_type": "execute_result"
    }
   ],
   "source": [
    "PredictDataFrame.head(10)"
   ]
  },
  {
   "cell_type": "code",
   "execution_count": 54,
   "id": "5a30f27a",
   "metadata": {},
   "outputs": [
    {
     "data": {
      "text/html": [
       "<div>\n",
       "<style scoped>\n",
       "    .dataframe tbody tr th:only-of-type {\n",
       "        vertical-align: middle;\n",
       "    }\n",
       "\n",
       "    .dataframe tbody tr th {\n",
       "        vertical-align: top;\n",
       "    }\n",
       "\n",
       "    .dataframe thead th {\n",
       "        text-align: right;\n",
       "    }\n",
       "</style>\n",
       "<table border=\"1\" class=\"dataframe\">\n",
       "  <thead>\n",
       "    <tr style=\"text-align: right;\">\n",
       "      <th></th>\n",
       "      <th>personexactage</th>\n",
       "      <th>IsMobile</th>\n",
       "      <th>Actural Duration</th>\n",
       "      <th>Predicted Duration</th>\n",
       "    </tr>\n",
       "  </thead>\n",
       "  <tbody>\n",
       "    <tr>\n",
       "      <th>151700</th>\n",
       "      <td>27</td>\n",
       "      <td>1</td>\n",
       "      <td>9</td>\n",
       "      <td>13.015923</td>\n",
       "    </tr>\n",
       "    <tr>\n",
       "      <th>808966</th>\n",
       "      <td>27</td>\n",
       "      <td>0</td>\n",
       "      <td>11</td>\n",
       "      <td>16.786492</td>\n",
       "    </tr>\n",
       "    <tr>\n",
       "      <th>553131</th>\n",
       "      <td>27</td>\n",
       "      <td>0</td>\n",
       "      <td>0</td>\n",
       "      <td>16.786492</td>\n",
       "    </tr>\n",
       "    <tr>\n",
       "      <th>327768</th>\n",
       "      <td>27</td>\n",
       "      <td>0</td>\n",
       "      <td>22</td>\n",
       "      <td>16.786492</td>\n",
       "    </tr>\n",
       "    <tr>\n",
       "      <th>1045522</th>\n",
       "      <td>27</td>\n",
       "      <td>0</td>\n",
       "      <td>0</td>\n",
       "      <td>16.786492</td>\n",
       "    </tr>\n",
       "    <tr>\n",
       "      <th>...</th>\n",
       "      <td>...</td>\n",
       "      <td>...</td>\n",
       "      <td>...</td>\n",
       "      <td>...</td>\n",
       "    </tr>\n",
       "    <tr>\n",
       "      <th>1201369</th>\n",
       "      <td>27</td>\n",
       "      <td>0</td>\n",
       "      <td>0</td>\n",
       "      <td>16.786492</td>\n",
       "    </tr>\n",
       "    <tr>\n",
       "      <th>651657</th>\n",
       "      <td>27</td>\n",
       "      <td>1</td>\n",
       "      <td>13</td>\n",
       "      <td>13.015923</td>\n",
       "    </tr>\n",
       "    <tr>\n",
       "      <th>1030130</th>\n",
       "      <td>27</td>\n",
       "      <td>1</td>\n",
       "      <td>0</td>\n",
       "      <td>13.015923</td>\n",
       "    </tr>\n",
       "    <tr>\n",
       "      <th>654484</th>\n",
       "      <td>27</td>\n",
       "      <td>1</td>\n",
       "      <td>14</td>\n",
       "      <td>13.015923</td>\n",
       "    </tr>\n",
       "    <tr>\n",
       "      <th>410441</th>\n",
       "      <td>27</td>\n",
       "      <td>1</td>\n",
       "      <td>0</td>\n",
       "      <td>13.015923</td>\n",
       "    </tr>\n",
       "  </tbody>\n",
       "</table>\n",
       "<p>680 rows × 4 columns</p>\n",
       "</div>"
      ],
      "text/plain": [
       "         personexactage  IsMobile  Actural Duration  Predicted Duration\n",
       "151700               27         1                 9           13.015923\n",
       "808966               27         0                11           16.786492\n",
       "553131               27         0                 0           16.786492\n",
       "327768               27         0                22           16.786492\n",
       "1045522              27         0                 0           16.786492\n",
       "...                 ...       ...               ...                 ...\n",
       "1201369              27         0                 0           16.786492\n",
       "651657               27         1                13           13.015923\n",
       "1030130              27         1                 0           13.015923\n",
       "654484               27         1                14           13.015923\n",
       "410441               27         1                 0           13.015923\n",
       "\n",
       "[680 rows x 4 columns]"
      ]
     },
     "execution_count": 54,
     "metadata": {},
     "output_type": "execute_result"
    }
   ],
   "source": [
    "PredictDataFrame[PredictDataFrame['personexactage'] == 27]"
   ]
  },
  {
   "cell_type": "markdown",
   "id": "af3f7de3",
   "metadata": {},
   "source": [
    "# Plottting Results"
   ]
  },
  {
   "cell_type": "code",
   "execution_count": 55,
   "id": "d10113c7",
   "metadata": {},
   "outputs": [
    {
     "data": {
      "image/png": "[encoded data removed]",
      "text/plain": [
       "<Figure size 432x288 with 1 Axes>"
      ]
     },
     "metadata": {
      "needs_background": "light"
     },
     "output_type": "display_data"
    },
    {
     "data": {
      "text/plain": [
       "(None,)"
      ]
     },
     "execution_count": 55,
     "metadata": {},
     "output_type": "execute_result"
    }
   ],
   "source": [
    "import matplotlib.pyplot as plt \n",
    "plt.scatter(x=PredictDataFrame['Actural Duration'], y=PredictDataFrame['Predicted Duration'], c='red')\n",
    "plt.title('Actual vs Predicted', size=20)\n",
    "plt.ylabel('Predicted Duration', size=12)\n",
    "plt.xlabel('Actural Duration', size=12)\n",
    "plt.show(),"
   ]
  },
  {
   "cell_type": "markdown",
   "id": "a0dd1930",
   "metadata": {},
   "source": [
    "# Predicting With new Dataset"
   ]
  },
  {
   "cell_type": "code",
   "execution_count": 56,
   "id": "4e428010",
   "metadata": {},
   "outputs": [
    {
     "name": "stdout",
     "output_type": "stream",
     "text": [
      "Score = 13.016\n"
     ]
    }
   ],
   "source": [
    "age = 27\n",
    "ismobile = 1\n",
    "result = regression.predict([[age, ismobile]])\n",
    "print(\"Score = {}\".format(round(result[0],3)))"
   ]
  },
  {
   "cell_type": "code",
   "execution_count": 57,
   "id": "54a12d19",
   "metadata": {},
   "outputs": [
    {
     "data": {
      "text/plain": [
       "126876     14\n",
       "1163197    18\n",
       "390985     13\n",
       "857330     13\n",
       "108431     14\n",
       "           ..\n",
       "793413     14\n",
       "1161681    18\n",
       "938160     14\n",
       "377433     18\n",
       "896150     13\n",
       "Name: Predicted Duration, Length: 305888, dtype: int32"
      ]
     },
     "execution_count": 57,
     "metadata": {},
     "output_type": "execute_result"
    }
   ],
   "source": [
    "pdf = PredictDataFrame.copy()\n",
    "pdf['Predicted Duration'].astype(int)"
   ]
  },
  {
   "cell_type": "code",
   "execution_count": 58,
   "id": "2fc292ea",
   "metadata": {},
   "outputs": [
    {
     "data": {
      "text/plain": [
       "126876     14\n",
       "1163197    18\n",
       "390985     13\n",
       "857330     13\n",
       "108431     14\n",
       "           ..\n",
       "793413     14\n",
       "1161681    18\n",
       "938160     14\n",
       "377433     18\n",
       "896150     13\n",
       "Name: Predicted Duration, Length: 305888, dtype: int32"
      ]
     },
     "execution_count": 58,
     "metadata": {},
     "output_type": "execute_result"
    }
   ],
   "source": [
    "pdf['Predicted Duration'].astype(int)"
   ]
  },
  {
   "cell_type": "code",
   "execution_count": null,
   "id": "85940b8d",
   "metadata": {},
   "outputs": [],
   "source": []
  },
  {
   "cell_type": "code",
   "execution_count": 59,
   "id": "a0baf481",
   "metadata": {},
   "outputs": [
    {
     "data": {
      "text/plain": [
       "<AxesSubplot:xlabel='Actural Duration', ylabel='Predicted Duration'>"
      ]
     },
     "execution_count": 59,
     "metadata": {},
     "output_type": "execute_result"
    },
    {
     "data": {
      "image/png": "[encoded data removed]",
      "text/plain": [
       "<Figure size 432x288 with 1 Axes>"
      ]
     },
     "metadata": {
      "needs_background": "light"
     },
     "output_type": "display_data"
    }
   ],
   "source": [
    "PredictDataFrame.plot.scatter(x='Actural Duration',\n",
    "               y='Predicted Duration',\n",
    "                c='blue',\n",
    "                colormap='viridis')"
   ]
  },
  {
   "cell_type": "code",
   "execution_count": 60,
   "id": "66a6a308",
   "metadata": {},
   "outputs": [
    {
     "data": {
      "text/html": [
       "<div>\n",
       "<style scoped>\n",
       "    .dataframe tbody tr th:only-of-type {\n",
       "        vertical-align: middle;\n",
       "    }\n",
       "\n",
       "    .dataframe tbody tr th {\n",
       "        vertical-align: top;\n",
       "    }\n",
       "\n",
       "    .dataframe thead th {\n",
       "        text-align: right;\n",
       "    }\n",
       "</style>\n",
       "<table border=\"1\" class=\"dataframe\">\n",
       "  <thead>\n",
       "    <tr style=\"text-align: right;\">\n",
       "      <th></th>\n",
       "      <th>personexactage</th>\n",
       "      <th>IsMobile</th>\n",
       "      <th>Actural Duration</th>\n",
       "      <th>Predicted Duration</th>\n",
       "    </tr>\n",
       "  </thead>\n",
       "  <tbody>\n",
       "    <tr>\n",
       "      <th>126876</th>\n",
       "      <td>60</td>\n",
       "      <td>1</td>\n",
       "      <td>0</td>\n",
       "      <td>14.047771</td>\n",
       "    </tr>\n",
       "    <tr>\n",
       "      <th>1163197</th>\n",
       "      <td>82</td>\n",
       "      <td>0</td>\n",
       "      <td>28</td>\n",
       "      <td>18.506239</td>\n",
       "    </tr>\n",
       "  </tbody>\n",
       "</table>\n",
       "</div>"
      ],
      "text/plain": [
       "         personexactage  IsMobile  Actural Duration  Predicted Duration\n",
       "126876               60         1                 0           14.047771\n",
       "1163197              82         0                28           18.506239"
      ]
     },
     "execution_count": 60,
     "metadata": {},
     "output_type": "execute_result"
    }
   ],
   "source": [
    "pdf.head(2)"
   ]
  },
  {
   "cell_type": "code",
   "execution_count": 61,
   "id": "f9397e2a",
   "metadata": {},
   "outputs": [
    {
     "data": {
      "text/plain": [
       "(12.797045678882458, 18.756384165347608)"
      ]
     },
     "execution_count": 61,
     "metadata": {},
     "output_type": "execute_result"
    }
   ],
   "source": [
    "min(pdf['Predicted Duration'].to_list()), max(pdf['Predicted Duration'].to_list())"
   ]
  },
  {
   "cell_type": "code",
   "execution_count": 62,
   "id": "8c3f029d",
   "metadata": {},
   "outputs": [
    {
     "data": {
      "text/plain": [
       "(0, 14683)"
      ]
     },
     "execution_count": 62,
     "metadata": {},
     "output_type": "execute_result"
    }
   ],
   "source": [
    "min(pdf['Actural Duration'].to_list()), max(pdf['Actural Duration'].to_list())"
   ]
  },
  {
   "cell_type": "code",
   "execution_count": 63,
   "id": "f31f3609",
   "metadata": {},
   "outputs": [
    {
     "ename": "ValueError",
     "evalue": "unknown is not supported",
     "output_type": "error",
     "traceback": [
      "\u001b[1;31m---------------------------------------------------------------------------\u001b[0m",
      "\u001b[1;31mValueError\u001b[0m                                Traceback (most recent call last)",
      "\u001b[1;32m<ipython-input-63-4f6131f60cdd>\u001b[0m in \u001b[0;36m<module>\u001b[1;34m\u001b[0m\n\u001b[0;32m     13\u001b[0m \u001b[1;33m\u001b[0m\u001b[0m\n\u001b[0;32m     14\u001b[0m \u001b[1;32mfrom\u001b[0m \u001b[0msklearn\u001b[0m\u001b[1;33m.\u001b[0m\u001b[0mmetrics\u001b[0m \u001b[1;32mimport\u001b[0m \u001b[1;33m*\u001b[0m\u001b[1;33m\u001b[0m\u001b[1;33m\u001b[0m\u001b[0m\n\u001b[1;32m---> 15\u001b[1;33m \u001b[0mconfusion_matrix\u001b[0m\u001b[1;33m(\u001b[0m\u001b[0mpdf\u001b[0m\u001b[1;33m[\u001b[0m\u001b[1;34m'Actual'\u001b[0m\u001b[1;33m]\u001b[0m\u001b[1;33m.\u001b[0m\u001b[0mto_list\u001b[0m\u001b[1;33m(\u001b[0m\u001b[1;33m)\u001b[0m \u001b[1;33m,\u001b[0m\u001b[0mpdf\u001b[0m\u001b[1;33m[\u001b[0m\u001b[1;34m'Predicted'\u001b[0m\u001b[1;33m]\u001b[0m\u001b[1;33m.\u001b[0m\u001b[0mto_list\u001b[0m\u001b[1;33m(\u001b[0m\u001b[1;33m)\u001b[0m\u001b[1;33m)\u001b[0m\u001b[1;33m\u001b[0m\u001b[1;33m\u001b[0m\u001b[0m\n\u001b[0m",
      "\u001b[1;32m~\\Anaconda3\\lib\\site-packages\\sklearn\\utils\\validation.py\u001b[0m in \u001b[0;36minner_f\u001b[1;34m(*args, **kwargs)\u001b[0m\n\u001b[0;32m     61\u001b[0m             \u001b[0mextra_args\u001b[0m \u001b[1;33m=\u001b[0m \u001b[0mlen\u001b[0m\u001b[1;33m(\u001b[0m\u001b[0margs\u001b[0m\u001b[1;33m)\u001b[0m \u001b[1;33m-\u001b[0m \u001b[0mlen\u001b[0m\u001b[1;33m(\u001b[0m\u001b[0mall_args\u001b[0m\u001b[1;33m)\u001b[0m\u001b[1;33m\u001b[0m\u001b[1;33m\u001b[0m\u001b[0m\n\u001b[0;32m     62\u001b[0m             \u001b[1;32mif\u001b[0m \u001b[0mextra_args\u001b[0m \u001b[1;33m<=\u001b[0m \u001b[1;36m0\u001b[0m\u001b[1;33m:\u001b[0m\u001b[1;33m\u001b[0m\u001b[1;33m\u001b[0m\u001b[0m\n\u001b[1;32m---> 63\u001b[1;33m                 \u001b[1;32mreturn\u001b[0m \u001b[0mf\u001b[0m\u001b[1;33m(\u001b[0m\u001b[1;33m*\u001b[0m\u001b[0margs\u001b[0m\u001b[1;33m,\u001b[0m \u001b[1;33m**\u001b[0m\u001b[0mkwargs\u001b[0m\u001b[1;33m)\u001b[0m\u001b[1;33m\u001b[0m\u001b[1;33m\u001b[0m\u001b[0m\n\u001b[0m\u001b[0;32m     64\u001b[0m \u001b[1;33m\u001b[0m\u001b[0m\n\u001b[0;32m     65\u001b[0m             \u001b[1;31m# extra_args > 0\u001b[0m\u001b[1;33m\u001b[0m\u001b[1;33m\u001b[0m\u001b[1;33m\u001b[0m\u001b[0m\n",
      "\u001b[1;32m~\\Anaconda3\\lib\\site-packages\\sklearn\\metrics\\_classification.py\u001b[0m in \u001b[0;36mconfusion_matrix\u001b[1;34m(y_true, y_pred, labels, sample_weight, normalize)\u001b[0m\n\u001b[0;32m    294\u001b[0m \u001b[1;33m\u001b[0m\u001b[0m\n\u001b[0;32m    295\u001b[0m     \"\"\"\n\u001b[1;32m--> 296\u001b[1;33m     \u001b[0my_type\u001b[0m\u001b[1;33m,\u001b[0m \u001b[0my_true\u001b[0m\u001b[1;33m,\u001b[0m \u001b[0my_pred\u001b[0m \u001b[1;33m=\u001b[0m \u001b[0m_check_targets\u001b[0m\u001b[1;33m(\u001b[0m\u001b[0my_true\u001b[0m\u001b[1;33m,\u001b[0m \u001b[0my_pred\u001b[0m\u001b[1;33m)\u001b[0m\u001b[1;33m\u001b[0m\u001b[1;33m\u001b[0m\u001b[0m\n\u001b[0m\u001b[0;32m    297\u001b[0m     \u001b[1;32mif\u001b[0m \u001b[0my_type\u001b[0m \u001b[1;32mnot\u001b[0m \u001b[1;32min\u001b[0m \u001b[1;33m(\u001b[0m\u001b[1;34m\"binary\"\u001b[0m\u001b[1;33m,\u001b[0m \u001b[1;34m\"multiclass\"\u001b[0m\u001b[1;33m)\u001b[0m\u001b[1;33m:\u001b[0m\u001b[1;33m\u001b[0m\u001b[1;33m\u001b[0m\u001b[0m\n\u001b[0;32m    298\u001b[0m         \u001b[1;32mraise\u001b[0m \u001b[0mValueError\u001b[0m\u001b[1;33m(\u001b[0m\u001b[1;34m\"%s is not supported\"\u001b[0m \u001b[1;33m%\u001b[0m \u001b[0my_type\u001b[0m\u001b[1;33m)\u001b[0m\u001b[1;33m\u001b[0m\u001b[1;33m\u001b[0m\u001b[0m\n",
      "\u001b[1;32m~\\Anaconda3\\lib\\site-packages\\sklearn\\metrics\\_classification.py\u001b[0m in \u001b[0;36m_check_targets\u001b[1;34m(y_true, y_pred)\u001b[0m\n\u001b[0;32m     98\u001b[0m     \u001b[1;31m# No metrics support \"multiclass-multioutput\" format\u001b[0m\u001b[1;33m\u001b[0m\u001b[1;33m\u001b[0m\u001b[1;33m\u001b[0m\u001b[0m\n\u001b[0;32m     99\u001b[0m     \u001b[1;32mif\u001b[0m \u001b[1;33m(\u001b[0m\u001b[0my_type\u001b[0m \u001b[1;32mnot\u001b[0m \u001b[1;32min\u001b[0m \u001b[1;33m[\u001b[0m\u001b[1;34m\"binary\"\u001b[0m\u001b[1;33m,\u001b[0m \u001b[1;34m\"multiclass\"\u001b[0m\u001b[1;33m,\u001b[0m \u001b[1;34m\"multilabel-indicator\"\u001b[0m\u001b[1;33m]\u001b[0m\u001b[1;33m)\u001b[0m\u001b[1;33m:\u001b[0m\u001b[1;33m\u001b[0m\u001b[1;33m\u001b[0m\u001b[0m\n\u001b[1;32m--> 100\u001b[1;33m         \u001b[1;32mraise\u001b[0m \u001b[0mValueError\u001b[0m\u001b[1;33m(\u001b[0m\u001b[1;34m\"{0} is not supported\"\u001b[0m\u001b[1;33m.\u001b[0m\u001b[0mformat\u001b[0m\u001b[1;33m(\u001b[0m\u001b[0my_type\u001b[0m\u001b[1;33m)\u001b[0m\u001b[1;33m)\u001b[0m\u001b[1;33m\u001b[0m\u001b[1;33m\u001b[0m\u001b[0m\n\u001b[0m\u001b[0;32m    101\u001b[0m \u001b[1;33m\u001b[0m\u001b[0m\n\u001b[0;32m    102\u001b[0m     \u001b[1;32mif\u001b[0m \u001b[0my_type\u001b[0m \u001b[1;32min\u001b[0m \u001b[1;33m[\u001b[0m\u001b[1;34m\"binary\"\u001b[0m\u001b[1;33m,\u001b[0m \u001b[1;34m\"multiclass\"\u001b[0m\u001b[1;33m]\u001b[0m\u001b[1;33m:\u001b[0m\u001b[1;33m\u001b[0m\u001b[1;33m\u001b[0m\u001b[0m\n",
      "\u001b[1;31mValueError\u001b[0m: unknown is not supported"
     ]
    }
   ],
   "source": [
    "def convert(n):\n",
    "    if n in range(0, 5):\n",
    "        n = 'D1'\n",
    "    if n in range(10,60):\n",
    "        n = 'D2'\n",
    "    if n == 60:\n",
    "        n = str(n)\n",
    "        n = 'D3'\n",
    "pdf['Actual'] = pdf['Actural Duration'].apply(convert)\n",
    "pdf['Predicted'] = pdf['Predicted Duration'].apply(convert)\n",
    "\n",
    "\n",
    "\n",
    "from sklearn.metrics import *\n",
    "confusion_matrix(pdf['Actual'].to_list() ,pdf['Predicted'].to_list())"
   ]
  },
  {
   "cell_type": "code",
   "execution_count": 64,
   "id": "3f6cfca3",
   "metadata": {},
   "outputs": [
    {
     "data": {
      "text/plain": [
       "126876     None\n",
       "1163197    None\n",
       "390985     None\n",
       "857330     None\n",
       "108431     None\n",
       "           ... \n",
       "793413     None\n",
       "1161681    None\n",
       "938160     None\n",
       "377433     None\n",
       "896150     None\n",
       "Name: Actual, Length: 305888, dtype: object"
      ]
     },
     "execution_count": 64,
     "metadata": {},
     "output_type": "execute_result"
    }
   ],
   "source": [
    "pdf['Actual'] "
   ]
  },
  {
   "cell_type": "code",
   "execution_count": 65,
   "id": "eebd6b43",
   "metadata": {},
   "outputs": [
    {
     "data": {
      "text/plain": [
       "126876     None\n",
       "1163197    None\n",
       "390985     None\n",
       "857330     None\n",
       "108431     None\n",
       "           ... \n",
       "793413     None\n",
       "1161681    None\n",
       "938160     None\n",
       "377433     None\n",
       "896150     None\n",
       "Name: Predicted, Length: 305888, dtype: object"
      ]
     },
     "execution_count": 65,
     "metadata": {},
     "output_type": "execute_result"
    }
   ],
   "source": [
    "pdf['Predicted']"
   ]
  },
  {
   "cell_type": "code",
   "execution_count": null,
   "id": "27beb586",
   "metadata": {},
   "outputs": [],
   "source": []
  },
  {
   "cell_type": "code",
   "execution_count": null,
   "id": "b46113e2",
   "metadata": {},
   "outputs": [],
   "source": []
  }
 ],
 "metadata": {
  "kernelspec": {
   "display_name": "Python 3",
   "language": "python",
   "name": "python3"
  },
  "language_info": {
   "codemirror_mode": {
    "name": "ipython",
    "version": 3
   },
   "file_extension": ".py",
   "mimetype": "text/x-python",
   "name": "python",
   "nbconvert_exporter": "python",
   "pygments_lexer": "ipython3",
   "version": "3.8.8"
  }
 },
 "nbformat": 4,
 "nbformat_minor": 5
}
