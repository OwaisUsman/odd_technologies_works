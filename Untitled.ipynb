{
 "cells": [
  {
   "cell_type": "code",
   "execution_count": 1,
   "id": "ea793ae2",
   "metadata": {},
   "outputs": [],
   "source": [
    "import os"
   ]
  },
  {
   "cell_type": "code",
   "execution_count": 2,
   "id": "f4cc638c",
   "metadata": {},
   "outputs": [],
   "source": [
    "chunks= os.listdir(r'Z:\\audios\\T_1')"
   ]
  },
  {
   "cell_type": "code",
   "execution_count": 10,
   "id": "2bf1b492",
   "metadata": {},
   "outputs": [
    {
     "data": {
      "text/plain": [
       "'ARI9-1634925862.16152-in.wav'"
      ]
     },
     "execution_count": 10,
     "metadata": {},
     "output_type": "execute_result"
    }
   ],
   "source": [
    "chunks[67632]"
   ]
  },
  {
   "cell_type": "code",
   "execution_count": 3,
   "id": "8e5c6b5b",
   "metadata": {},
   "outputs": [
    {
     "data": {
      "text/plain": [
       "103445"
      ]
     },
     "execution_count": 3,
     "metadata": {},
     "output_type": "execute_result"
    }
   ],
   "source": [
    "len(chunks)"
   ]
  },
  {
   "cell_type": "code",
   "execution_count": 4,
   "id": "a3575e08",
   "metadata": {},
   "outputs": [],
   "source": [
    "new_chunks= os.listdir(r'C:\\Users\\trainee7\\Desktop\\owais usman\\newChunk')"
   ]
  },
  {
   "cell_type": "code",
   "execution_count": 5,
   "id": "029dafb3",
   "metadata": {},
   "outputs": [
    {
     "data": {
      "text/plain": [
       "136516"
      ]
     },
     "execution_count": 5,
     "metadata": {},
     "output_type": "execute_result"
    }
   ],
   "source": [
    "len(new_chunks)"
   ]
  },
  {
   "cell_type": "code",
   "execution_count": 6,
   "id": "0f967d75",
   "metadata": {},
   "outputs": [
    {
     "data": {
      "text/plain": [
       "'44953ARI6-1635001613.2396-out-2.wav'"
      ]
     },
     "execution_count": 6,
     "metadata": {},
     "output_type": "execute_result"
    }
   ],
   "source": [
    "new_chunks[67631]"
   ]
  },
  {
   "cell_type": "code",
   "execution_count": 28,
   "id": "bdc948c5",
   "metadata": {},
   "outputs": [
    {
     "data": {
      "text/plain": [
       "'9ARI9-1635787215.44734-in-6.wav'"
      ]
     },
     "execution_count": 28,
     "metadata": {},
     "output_type": "execute_result"
    }
   ],
   "source": [
    "new_chunks[136515]"
   ]
  },
  {
   "cell_type": "code",
   "execution_count": 8,
   "id": "c7e0a87e",
   "metadata": {},
   "outputs": [
    {
     "data": {
      "text/plain": [
       "'44956ARI9-1634925952.16599-in-1.wav'"
      ]
     },
     "execution_count": 8,
     "metadata": {},
     "output_type": "execute_result"
    }
   ],
   "source": [
    "new_chunks[67635]"
   ]
  },
  {
   "cell_type": "code",
   "execution_count": 16,
   "id": "7be30cbf",
   "metadata": {},
   "outputs": [
    {
     "data": {
      "text/plain": [
       "'48992ARI9-1635780275.11788-in-2.wav'"
      ]
     },
     "execution_count": 16,
     "metadata": {},
     "output_type": "execute_result"
    }
   ],
   "source": [
    "new_chunks[78650]"
   ]
  },
  {
   "cell_type": "code",
   "execution_count": 64,
   "id": "b0e3f8bf",
   "metadata": {},
   "outputs": [
    {
     "data": {
      "text/plain": [
       "'ARI9-1635006108.21071-in.wav'"
      ]
     },
     "execution_count": 64,
     "metadata": {},
     "output_type": "execute_result"
    }
   ],
   "source": [
    "chunks[67630]"
   ]
  },
  {
   "cell_type": "code",
   "execution_count": 65,
   "id": "8ce700d8",
   "metadata": {},
   "outputs": [
    {
     "name": "stdout",
     "output_type": "stream",
     "text": [
      "126989 67631ARI9-1635006108.21071-in-1.wav\n",
      "126990 67631ARI9-1635006108.21071-in-2.wav\n",
      "126991 67631ARI9-1635006108.21071-in-3.wav\n"
     ]
    }
   ],
   "source": [
    "for i in new_chunks:\n",
    "    if 'ARI9-1635006108.21071' in i:\n",
    "        print(new_chunks.index(i), i)"
   ]
  },
  {
   "cell_type": "code",
   "execution_count": 30,
   "id": "ebc54730",
   "metadata": {},
   "outputs": [
    {
     "ename": "NameError",
     "evalue": "name 'ARI9' is not defined",
     "output_type": "error",
     "traceback": [
      "\u001b[1;31m---------------------------------------------------------------------------\u001b[0m",
      "\u001b[1;31mNameError\u001b[0m                                 Traceback (most recent call last)",
      "\u001b[1;32m<ipython-input-30-f5c797a5405a>\u001b[0m in \u001b[0;36m<module>\u001b[1;34m\u001b[0m\n\u001b[1;32m----> 1\u001b[1;33m \u001b[0mnew_chunks\u001b[0m\u001b[1;33m[\u001b[0m\u001b[0mARI9\u001b[0m\u001b[1;33m-\u001b[0m\u001b[1;36m1635787215.44734\u001b[0m\u001b[1;33m]\u001b[0m\u001b[1;33m\u001b[0m\u001b[1;33m\u001b[0m\u001b[0m\n\u001b[0m",
      "\u001b[1;31mNameError\u001b[0m: name 'ARI9' is not defined"
     ]
    }
   ],
   "source": [
    "new_chunks[]"
   ]
  },
  {
   "cell_type": "code",
   "execution_count": null,
   "id": "76964401",
   "metadata": {},
   "outputs": [],
   "source": [
    "# # import os\n",
    "\n",
    "# audio_file_name_list = os.listdir(r\"Z:\\audios\\T_1\")\n",
    "\n",
    "# T_1_chunks_file_names = os.listdir(r\"Z:\\Abdullah\\audio_chunks_T_1\")"
   ]
  }
 ],
 "metadata": {
  "kernelspec": {
   "display_name": "Python 3",
   "language": "python",
   "name": "python3"
  },
  "language_info": {
   "codemirror_mode": {
    "name": "ipython",
    "version": 3
   },
   "file_extension": ".py",
   "mimetype": "text/x-python",
   "name": "python",
   "nbconvert_exporter": "python",
   "pygments_lexer": "ipython3",
   "version": "3.8.8"
  }
 },
 "nbformat": 4,
 "nbformat_minor": 5
}
